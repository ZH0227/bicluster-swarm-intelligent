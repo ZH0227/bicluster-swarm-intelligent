{
 "cells": [
  {
   "cell_type": "code",
   "execution_count": 1,
   "metadata": {},
   "outputs": [
    {
     "name": "stderr",
     "output_type": "stream",
     "text": [
      "/opt/anaconda3/envs/R/lib/python3.7/site-packages/statsmodels/tools/_testing.py:19: FutureWarning: pandas.util.testing is deprecated. Use the functions in the public API at pandas.testing instead.\n",
      "  import pandas.util.testing as tm\n"
     ]
    }
   ],
   "source": [
    "import pandas as pd\n",
    "import numpy as np\n",
    "import matplotlib.pyplot as plt\n",
    "import seaborn as sns\n",
    "from glob import glob\n",
    "import os\n",
    "%matplotlib inline"
   ]
  },
  {
   "cell_type": "code",
   "execution_count": 2,
   "metadata": {},
   "outputs": [],
   "source": [
    "sns.set_style(\"whitegrid\")"
   ]
  },
  {
   "cell_type": "code",
   "execution_count": 3,
   "metadata": {},
   "outputs": [
    {
     "data": {
      "text/html": [
       "<div>\n",
       "<style scoped>\n",
       "    .dataframe tbody tr th:only-of-type {\n",
       "        vertical-align: middle;\n",
       "    }\n",
       "\n",
       "    .dataframe tbody tr th {\n",
       "        vertical-align: top;\n",
       "    }\n",
       "\n",
       "    .dataframe thead th {\n",
       "        text-align: right;\n",
       "    }\n",
       "</style>\n",
       "<table border=\"1\" class=\"dataframe\">\n",
       "  <thead>\n",
       "    <tr style=\"text-align: right;\">\n",
       "      <th></th>\n",
       "      <th>FAB</th>\n",
       "      <th>CSB</th>\n",
       "      <th>CSFAB</th>\n",
       "      <th>PSOB</th>\n",
       "    </tr>\n",
       "  </thead>\n",
       "  <tbody>\n",
       "    <tr>\n",
       "      <th>count</th>\n",
       "      <td>100.000000</td>\n",
       "      <td>100.000000</td>\n",
       "      <td>100.000000</td>\n",
       "      <td>100.000000</td>\n",
       "    </tr>\n",
       "    <tr>\n",
       "      <th>mean</th>\n",
       "      <td>230.553939</td>\n",
       "      <td>231.939047</td>\n",
       "      <td>228.719395</td>\n",
       "      <td>230.891303</td>\n",
       "    </tr>\n",
       "    <tr>\n",
       "      <th>std</th>\n",
       "      <td>14.915957</td>\n",
       "      <td>14.102766</td>\n",
       "      <td>14.549802</td>\n",
       "      <td>14.927698</td>\n",
       "    </tr>\n",
       "    <tr>\n",
       "      <th>min</th>\n",
       "      <td>189.231923</td>\n",
       "      <td>198.292848</td>\n",
       "      <td>200.556717</td>\n",
       "      <td>200.930329</td>\n",
       "    </tr>\n",
       "    <tr>\n",
       "      <th>25%</th>\n",
       "      <td>221.122345</td>\n",
       "      <td>223.811800</td>\n",
       "      <td>220.711098</td>\n",
       "      <td>219.882233</td>\n",
       "    </tr>\n",
       "    <tr>\n",
       "      <th>50%</th>\n",
       "      <td>230.209891</td>\n",
       "      <td>228.744930</td>\n",
       "      <td>228.272094</td>\n",
       "      <td>229.596674</td>\n",
       "    </tr>\n",
       "    <tr>\n",
       "      <th>75%</th>\n",
       "      <td>240.103760</td>\n",
       "      <td>241.109569</td>\n",
       "      <td>238.242285</td>\n",
       "      <td>240.552957</td>\n",
       "    </tr>\n",
       "    <tr>\n",
       "      <th>max</th>\n",
       "      <td>271.201540</td>\n",
       "      <td>266.358190</td>\n",
       "      <td>261.343299</td>\n",
       "      <td>266.774440</td>\n",
       "    </tr>\n",
       "  </tbody>\n",
       "</table>\n",
       "</div>"
      ],
      "text/plain": [
       "              FAB         CSB       CSFAB        PSOB\n",
       "count  100.000000  100.000000  100.000000  100.000000\n",
       "mean   230.553939  231.939047  228.719395  230.891303\n",
       "std     14.915957   14.102766   14.549802   14.927698\n",
       "min    189.231923  198.292848  200.556717  200.930329\n",
       "25%    221.122345  223.811800  220.711098  219.882233\n",
       "50%    230.209891  228.744930  228.272094  229.596674\n",
       "75%    240.103760  241.109569  238.242285  240.552957\n",
       "max    271.201540  266.358190  261.343299  266.774440"
      ]
     },
     "execution_count": 3,
     "metadata": {},
     "output_type": "execute_result"
    }
   ],
   "source": [
    "bcll_we_df = pd.read_csv('./BCLL/we.csv', index_col=0).drop(labels='QPSOB', axis=1)\n",
    "bcll_we_df.describe()"
   ]
  },
  {
   "cell_type": "code",
   "execution_count": 4,
   "metadata": {},
   "outputs": [
    {
     "data": {
      "text/html": [
       "<div>\n",
       "<style scoped>\n",
       "    .dataframe tbody tr th:only-of-type {\n",
       "        vertical-align: middle;\n",
       "    }\n",
       "\n",
       "    .dataframe tbody tr th {\n",
       "        vertical-align: top;\n",
       "    }\n",
       "\n",
       "    .dataframe thead th {\n",
       "        text-align: right;\n",
       "    }\n",
       "</style>\n",
       "<table border=\"1\" class=\"dataframe\">\n",
       "  <thead>\n",
       "    <tr style=\"text-align: right;\">\n",
       "      <th></th>\n",
       "      <th>FAB</th>\n",
       "      <th>CSB</th>\n",
       "      <th>CSFAB</th>\n",
       "      <th>PSOB</th>\n",
       "    </tr>\n",
       "  </thead>\n",
       "  <tbody>\n",
       "    <tr>\n",
       "      <th>count</th>\n",
       "      <td>100.000000</td>\n",
       "      <td>100.000000</td>\n",
       "      <td>100.000000</td>\n",
       "      <td>100.000000</td>\n",
       "    </tr>\n",
       "    <tr>\n",
       "      <th>mean</th>\n",
       "      <td>45.764375</td>\n",
       "      <td>43.593982</td>\n",
       "      <td>44.591535</td>\n",
       "      <td>43.276549</td>\n",
       "    </tr>\n",
       "    <tr>\n",
       "      <th>std</th>\n",
       "      <td>8.340884</td>\n",
       "      <td>7.458597</td>\n",
       "      <td>7.171515</td>\n",
       "      <td>8.033455</td>\n",
       "    </tr>\n",
       "    <tr>\n",
       "      <th>min</th>\n",
       "      <td>24.482414</td>\n",
       "      <td>19.398884</td>\n",
       "      <td>24.776281</td>\n",
       "      <td>25.063950</td>\n",
       "    </tr>\n",
       "    <tr>\n",
       "      <th>25%</th>\n",
       "      <td>41.548142</td>\n",
       "      <td>38.284456</td>\n",
       "      <td>40.624559</td>\n",
       "      <td>37.095183</td>\n",
       "    </tr>\n",
       "    <tr>\n",
       "      <th>50%</th>\n",
       "      <td>46.365431</td>\n",
       "      <td>42.756462</td>\n",
       "      <td>43.992260</td>\n",
       "      <td>42.696574</td>\n",
       "    </tr>\n",
       "    <tr>\n",
       "      <th>75%</th>\n",
       "      <td>51.004624</td>\n",
       "      <td>48.866347</td>\n",
       "      <td>48.797050</td>\n",
       "      <td>49.552815</td>\n",
       "    </tr>\n",
       "    <tr>\n",
       "      <th>max</th>\n",
       "      <td>66.991487</td>\n",
       "      <td>62.056988</td>\n",
       "      <td>62.929974</td>\n",
       "      <td>63.146094</td>\n",
       "    </tr>\n",
       "  </tbody>\n",
       "</table>\n",
       "</div>"
      ],
      "text/plain": [
       "              FAB         CSB       CSFAB        PSOB\n",
       "count  100.000000  100.000000  100.000000  100.000000\n",
       "mean    45.764375   43.593982   44.591535   43.276549\n",
       "std      8.340884    7.458597    7.171515    8.033455\n",
       "min     24.482414   19.398884   24.776281   25.063950\n",
       "25%     41.548142   38.284456   40.624559   37.095183\n",
       "50%     46.365431   42.756462   43.992260   42.696574\n",
       "75%     51.004624   48.866347   48.797050   49.552815\n",
       "max     66.991487   62.056988   62.929974   63.146094"
      ]
     },
     "execution_count": 4,
     "metadata": {},
     "output_type": "execute_result"
    }
   ],
   "source": [
    "yc_we_df = pd.read_csv('./YC/we.csv', index_col=0).drop(labels='QPSOB', axis=1)\n",
    "yc_we_df.describe()"
   ]
  },
  {
   "cell_type": "code",
   "execution_count": 5,
   "metadata": {},
   "outputs": [
    {
     "data": {
      "text/html": [
       "<div>\n",
       "<style scoped>\n",
       "    .dataframe tbody tr th:only-of-type {\n",
       "        vertical-align: middle;\n",
       "    }\n",
       "\n",
       "    .dataframe tbody tr th {\n",
       "        vertical-align: top;\n",
       "    }\n",
       "\n",
       "    .dataframe thead th {\n",
       "        text-align: right;\n",
       "    }\n",
       "</style>\n",
       "<table border=\"1\" class=\"dataframe\">\n",
       "  <thead>\n",
       "    <tr style=\"text-align: right;\">\n",
       "      <th></th>\n",
       "      <th>FAB</th>\n",
       "      <th>CSB</th>\n",
       "      <th>CSFAB</th>\n",
       "      <th>PSOB</th>\n",
       "    </tr>\n",
       "  </thead>\n",
       "  <tbody>\n",
       "    <tr>\n",
       "      <th>count</th>\n",
       "      <td>100.000000</td>\n",
       "      <td>100.000000</td>\n",
       "      <td>100.000000</td>\n",
       "      <td>100.000000</td>\n",
       "    </tr>\n",
       "    <tr>\n",
       "      <th>mean</th>\n",
       "      <td>149.247622</td>\n",
       "      <td>137.903491</td>\n",
       "      <td>153.489900</td>\n",
       "      <td>143.242123</td>\n",
       "    </tr>\n",
       "    <tr>\n",
       "      <th>std</th>\n",
       "      <td>9.226766</td>\n",
       "      <td>10.547491</td>\n",
       "      <td>12.725431</td>\n",
       "      <td>8.304016</td>\n",
       "    </tr>\n",
       "    <tr>\n",
       "      <th>min</th>\n",
       "      <td>130.574048</td>\n",
       "      <td>115.092546</td>\n",
       "      <td>129.889604</td>\n",
       "      <td>128.556299</td>\n",
       "    </tr>\n",
       "    <tr>\n",
       "      <th>25%</th>\n",
       "      <td>144.479073</td>\n",
       "      <td>130.591942</td>\n",
       "      <td>144.885035</td>\n",
       "      <td>136.321152</td>\n",
       "    </tr>\n",
       "    <tr>\n",
       "      <th>50%</th>\n",
       "      <td>147.622292</td>\n",
       "      <td>137.932722</td>\n",
       "      <td>153.404655</td>\n",
       "      <td>143.137303</td>\n",
       "    </tr>\n",
       "    <tr>\n",
       "      <th>75%</th>\n",
       "      <td>154.431316</td>\n",
       "      <td>148.424308</td>\n",
       "      <td>163.425145</td>\n",
       "      <td>150.903695</td>\n",
       "    </tr>\n",
       "    <tr>\n",
       "      <th>max</th>\n",
       "      <td>175.382355</td>\n",
       "      <td>163.037247</td>\n",
       "      <td>174.327016</td>\n",
       "      <td>164.089418</td>\n",
       "    </tr>\n",
       "  </tbody>\n",
       "</table>\n",
       "</div>"
      ],
      "text/plain": [
       "              FAB         CSB       CSFAB        PSOB\n",
       "count  100.000000  100.000000  100.000000  100.000000\n",
       "mean   149.247622  137.903491  153.489900  143.242123\n",
       "std      9.226766   10.547491   12.725431    8.304016\n",
       "min    130.574048  115.092546  129.889604  128.556299\n",
       "25%    144.479073  130.591942  144.885035  136.321152\n",
       "50%    147.622292  137.932722  153.404655  143.137303\n",
       "75%    154.431316  148.424308  163.425145  150.903695\n",
       "max    175.382355  163.037247  174.327016  164.089418"
      ]
     },
     "execution_count": 5,
     "metadata": {},
     "output_type": "execute_result"
    }
   ],
   "source": [
    "pbc_we_df = pd.read_csv('./PBC/we.csv', index_col=0).drop(labels='QPSOB', axis=1)\n",
    "pbc_we_df.describe()"
   ]
  },
  {
   "cell_type": "code",
   "execution_count": 6,
   "metadata": {},
   "outputs": [
    {
     "data": {
      "text/html": [
       "<div>\n",
       "<style scoped>\n",
       "    .dataframe tbody tr th:only-of-type {\n",
       "        vertical-align: middle;\n",
       "    }\n",
       "\n",
       "    .dataframe tbody tr th {\n",
       "        vertical-align: top;\n",
       "    }\n",
       "\n",
       "    .dataframe thead th {\n",
       "        text-align: right;\n",
       "    }\n",
       "</style>\n",
       "<table border=\"1\" class=\"dataframe\">\n",
       "  <thead>\n",
       "    <tr style=\"text-align: right;\">\n",
       "      <th></th>\n",
       "      <th>FAB</th>\n",
       "      <th>CSB</th>\n",
       "      <th>CSFAB</th>\n",
       "      <th>PSOB</th>\n",
       "    </tr>\n",
       "  </thead>\n",
       "  <tbody>\n",
       "    <tr>\n",
       "      <th>count</th>\n",
       "      <td>100.000000</td>\n",
       "      <td>100.000000</td>\n",
       "      <td>100.000000</td>\n",
       "      <td>100.000000</td>\n",
       "    </tr>\n",
       "    <tr>\n",
       "      <th>mean</th>\n",
       "      <td>119.855932</td>\n",
       "      <td>124.207874</td>\n",
       "      <td>124.907083</td>\n",
       "      <td>115.302711</td>\n",
       "    </tr>\n",
       "    <tr>\n",
       "      <th>std</th>\n",
       "      <td>41.610257</td>\n",
       "      <td>44.528755</td>\n",
       "      <td>42.059329</td>\n",
       "      <td>38.601609</td>\n",
       "    </tr>\n",
       "    <tr>\n",
       "      <th>min</th>\n",
       "      <td>34.405923</td>\n",
       "      <td>21.393078</td>\n",
       "      <td>31.674588</td>\n",
       "      <td>36.019656</td>\n",
       "    </tr>\n",
       "    <tr>\n",
       "      <th>25%</th>\n",
       "      <td>89.610857</td>\n",
       "      <td>95.823697</td>\n",
       "      <td>95.576269</td>\n",
       "      <td>84.923475</td>\n",
       "    </tr>\n",
       "    <tr>\n",
       "      <th>50%</th>\n",
       "      <td>124.559360</td>\n",
       "      <td>124.536477</td>\n",
       "      <td>121.265994</td>\n",
       "      <td>113.166500</td>\n",
       "    </tr>\n",
       "    <tr>\n",
       "      <th>75%</th>\n",
       "      <td>143.520465</td>\n",
       "      <td>149.240681</td>\n",
       "      <td>147.744901</td>\n",
       "      <td>135.930352</td>\n",
       "    </tr>\n",
       "    <tr>\n",
       "      <th>max</th>\n",
       "      <td>253.667686</td>\n",
       "      <td>240.308686</td>\n",
       "      <td>246.665384</td>\n",
       "      <td>226.692625</td>\n",
       "    </tr>\n",
       "  </tbody>\n",
       "</table>\n",
       "</div>"
      ],
      "text/plain": [
       "              FAB         CSB       CSFAB        PSOB\n",
       "count  100.000000  100.000000  100.000000  100.000000\n",
       "mean   119.855932  124.207874  124.907083  115.302711\n",
       "std     41.610257   44.528755   42.059329   38.601609\n",
       "min     34.405923   21.393078   31.674588   36.019656\n",
       "25%     89.610857   95.823697   95.576269   84.923475\n",
       "50%    124.559360  124.536477  121.265994  113.166500\n",
       "75%    143.520465  149.240681  147.744901  135.930352\n",
       "max    253.667686  240.308686  246.665384  226.692625"
      ]
     },
     "execution_count": 6,
     "metadata": {},
     "output_type": "execute_result"
    }
   ],
   "source": [
    "rat_we_df = pd.read_csv('./RAT/we.csv', index_col=0).drop(labels='QPSOB', axis=1)\n",
    "rat_we_df.describe()"
   ]
  },
  {
   "cell_type": "code",
   "execution_count": 7,
   "metadata": {},
   "outputs": [
    {
     "data": {
      "text/plain": [
       "Text(0.5, 0, '')"
      ]
     },
     "execution_count": 7,
     "metadata": {},
     "output_type": "execute_result"
    },
    {
     "data": {
      "image/png": "[encoded data removed]",
      "text/plain": [
       "<Figure size 432x288 with 1 Axes>"
      ]
     },
     "metadata": {},
     "output_type": "display_data"
    }
   ],
   "source": [
    "ax = sns.boxplot(x=\"variable\", y=\"value\", data=pd.melt(bcll_we_df))\n",
    "ax.set_ylabel('')    \n",
    "ax.set_xlabel('')"
   ]
  },
  {
   "cell_type": "code",
   "execution_count": 8,
   "metadata": {},
   "outputs": [
    {
     "data": {
      "text/plain": [
       "Text(0.5, 0, '')"
      ]
     },
     "execution_count": 8,
     "metadata": {},
     "output_type": "execute_result"
    },
    {
     "data": {
      "image/png": "[encoded data removed]",
      "text/plain": [
       "<Figure size 432x288 with 1 Axes>"
      ]
     },
     "metadata": {},
     "output_type": "display_data"
    }
   ],
   "source": [
    "ax = sns.boxplot(x=\"variable\", y=\"value\", data=pd.melt(yc_we_df))\n",
    "ax.set_ylabel('')    \n",
    "ax.set_xlabel('')"
   ]
  },
  {
   "cell_type": "code",
   "execution_count": 9,
   "metadata": {},
   "outputs": [
    {
     "data": {
      "text/plain": [
       "Text(0.5, 0, '')"
      ]
     },
     "execution_count": 9,
     "metadata": {},
     "output_type": "execute_result"
    },
    {
     "data": {
      "image/png": "[encoded data removed]",
      "text/plain": [
       "<Figure size 432x288 with 1 Axes>"
      ]
     },
     "metadata": {},
     "output_type": "display_data"
    }
   ],
   "source": [
    "ax = sns.boxplot(x=\"variable\", y=\"value\", data=pd.melt(pbc_we_df))\n",
    "ax.set_ylabel('')    \n",
    "ax.set_xlabel('')"
   ]
  },
  {
   "cell_type": "code",
   "execution_count": 10,
   "metadata": {},
   "outputs": [
    {
     "data": {
      "text/plain": [
       "Text(0.5, 0, '')"
      ]
     },
     "execution_count": 10,
     "metadata": {},
     "output_type": "execute_result"
    },
    {
     "data": {
      "image/png": "[encoded data removed]",
      "text/plain": [
       "<Figure size 432x288 with 1 Axes>"
      ]
     },
     "metadata": {},
     "output_type": "display_data"
    }
   ],
   "source": [
    "ax = sns.boxplot(x=\"variable\", y=\"value\", data=pd.melt(rat_we_df))\n",
    "ax.set_ylabel('')    \n",
    "ax.set_xlabel('')"
   ]
  },
  {
   "cell_type": "code",
   "execution_count": null,
   "metadata": {},
   "outputs": [],
   "source": []
  }
 ],
 "metadata": {
  "kernelspec": {
   "display_name": "Python 3",
   "language": "python",
   "name": "python3"
  },
  "language_info": {
   "codemirror_mode": {
    "name": "ipython",
    "version": 3
   },
   "file_extension": ".py",
   "mimetype": "text/x-python",
   "name": "python",
   "nbconvert_exporter": "python",
   "pygments_lexer": "ipython3",
   "version": "3.7.5"
  }
 },
 "nbformat": 4,
 "nbformat_minor": 2
}
