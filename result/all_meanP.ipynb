{
 "cells": [
  {
   "cell_type": "code",
   "execution_count": 11,
   "metadata": {},
   "outputs": [],
   "source": [
    "import pandas as pd\n",
    "import numpy as np\n",
    "import matplotlib.pyplot as plt\n",
    "import seaborn as sns\n",
    "from glob import glob\n",
    "import os\n",
    "%matplotlib inline"
   ]
  },
  {
   "cell_type": "code",
   "execution_count": 12,
   "metadata": {},
   "outputs": [],
   "source": [
    "sns.set_style(\"whitegrid\")"
   ]
  },
  {
   "cell_type": "code",
   "execution_count": 13,
   "metadata": {},
   "outputs": [
    {
     "data": {
      "text/html": [
       "<div>\n",
       "<style scoped>\n",
       "    .dataframe tbody tr th:only-of-type {\n",
       "        vertical-align: middle;\n",
       "    }\n",
       "\n",
       "    .dataframe tbody tr th {\n",
       "        vertical-align: top;\n",
       "    }\n",
       "\n",
       "    .dataframe thead th {\n",
       "        text-align: right;\n",
       "    }\n",
       "</style>\n",
       "<table border=\"1\" class=\"dataframe\">\n",
       "  <thead>\n",
       "    <tr style=\"text-align: right;\">\n",
       "      <th></th>\n",
       "      <th>FAB</th>\n",
       "      <th>CSB</th>\n",
       "      <th>CSFAB</th>\n",
       "      <th>PSOB</th>\n",
       "    </tr>\n",
       "  </thead>\n",
       "  <tbody>\n",
       "    <tr>\n",
       "      <th>count</th>\n",
       "      <td>100.000000</td>\n",
       "      <td>100.000000</td>\n",
       "      <td>100.000000</td>\n",
       "      <td>100.000000</td>\n",
       "    </tr>\n",
       "    <tr>\n",
       "      <th>mean</th>\n",
       "      <td>4.879889</td>\n",
       "      <td>4.893026</td>\n",
       "      <td>4.872164</td>\n",
       "      <td>4.882405</td>\n",
       "    </tr>\n",
       "    <tr>\n",
       "      <th>std</th>\n",
       "      <td>0.119130</td>\n",
       "      <td>0.119383</td>\n",
       "      <td>0.132484</td>\n",
       "      <td>0.130960</td>\n",
       "    </tr>\n",
       "    <tr>\n",
       "      <th>min</th>\n",
       "      <td>4.522248</td>\n",
       "      <td>4.521559</td>\n",
       "      <td>4.607706</td>\n",
       "      <td>4.644426</td>\n",
       "    </tr>\n",
       "    <tr>\n",
       "      <th>25%</th>\n",
       "      <td>4.805360</td>\n",
       "      <td>4.795653</td>\n",
       "      <td>4.769169</td>\n",
       "      <td>4.797260</td>\n",
       "    </tr>\n",
       "    <tr>\n",
       "      <th>50%</th>\n",
       "      <td>4.883715</td>\n",
       "      <td>4.903870</td>\n",
       "      <td>4.876099</td>\n",
       "      <td>4.857905</td>\n",
       "    </tr>\n",
       "    <tr>\n",
       "      <th>75%</th>\n",
       "      <td>4.947686</td>\n",
       "      <td>4.970214</td>\n",
       "      <td>4.960138</td>\n",
       "      <td>4.972359</td>\n",
       "    </tr>\n",
       "    <tr>\n",
       "      <th>max</th>\n",
       "      <td>5.153637</td>\n",
       "      <td>5.142727</td>\n",
       "      <td>5.274317</td>\n",
       "      <td>5.169173</td>\n",
       "    </tr>\n",
       "  </tbody>\n",
       "</table>\n",
       "</div>"
      ],
      "text/plain": [
       "              FAB         CSB       CSFAB        PSOB\n",
       "count  100.000000  100.000000  100.000000  100.000000\n",
       "mean     4.879889    4.893026    4.872164    4.882405\n",
       "std      0.119130    0.119383    0.132484    0.130960\n",
       "min      4.522248    4.521559    4.607706    4.644426\n",
       "25%      4.805360    4.795653    4.769169    4.797260\n",
       "50%      4.883715    4.903870    4.876099    4.857905\n",
       "75%      4.947686    4.970214    4.960138    4.972359\n",
       "max      5.153637    5.142727    5.274317    5.169173"
      ]
     },
     "execution_count": 13,
     "metadata": {},
     "output_type": "execute_result"
    }
   ],
   "source": [
    "bcll_meanP_df = pd.read_csv('./BCLL/meanP.csv', index_col=0).drop(labels='QPSOB', axis=1)\n",
    "bcll_meanP_df.describe()"
   ]
  },
  {
   "cell_type": "code",
   "execution_count": 14,
   "metadata": {},
   "outputs": [
    {
     "data": {
      "text/html": [
       "<div>\n",
       "<style scoped>\n",
       "    .dataframe tbody tr th:only-of-type {\n",
       "        vertical-align: middle;\n",
       "    }\n",
       "\n",
       "    .dataframe tbody tr th {\n",
       "        vertical-align: top;\n",
       "    }\n",
       "\n",
       "    .dataframe thead th {\n",
       "        text-align: right;\n",
       "    }\n",
       "</style>\n",
       "<table border=\"1\" class=\"dataframe\">\n",
       "  <thead>\n",
       "    <tr style=\"text-align: right;\">\n",
       "      <th></th>\n",
       "      <th>FAB</th>\n",
       "      <th>CSB</th>\n",
       "      <th>CSFAB</th>\n",
       "      <th>PSOB</th>\n",
       "    </tr>\n",
       "  </thead>\n",
       "  <tbody>\n",
       "    <tr>\n",
       "      <th>count</th>\n",
       "      <td>100.000000</td>\n",
       "      <td>100.000000</td>\n",
       "      <td>100.000000</td>\n",
       "      <td>100.000000</td>\n",
       "    </tr>\n",
       "    <tr>\n",
       "      <th>mean</th>\n",
       "      <td>4.763491</td>\n",
       "      <td>4.618713</td>\n",
       "      <td>4.726150</td>\n",
       "      <td>4.666280</td>\n",
       "    </tr>\n",
       "    <tr>\n",
       "      <th>std</th>\n",
       "      <td>0.434461</td>\n",
       "      <td>0.372240</td>\n",
       "      <td>0.372371</td>\n",
       "      <td>0.414410</td>\n",
       "    </tr>\n",
       "    <tr>\n",
       "      <th>min</th>\n",
       "      <td>3.676366</td>\n",
       "      <td>3.588247</td>\n",
       "      <td>3.941794</td>\n",
       "      <td>3.717882</td>\n",
       "    </tr>\n",
       "    <tr>\n",
       "      <th>25%</th>\n",
       "      <td>4.521240</td>\n",
       "      <td>4.389379</td>\n",
       "      <td>4.502448</td>\n",
       "      <td>4.374568</td>\n",
       "    </tr>\n",
       "    <tr>\n",
       "      <th>50%</th>\n",
       "      <td>4.799624</td>\n",
       "      <td>4.589693</td>\n",
       "      <td>4.725303</td>\n",
       "      <td>4.656184</td>\n",
       "    </tr>\n",
       "    <tr>\n",
       "      <th>75%</th>\n",
       "      <td>5.034787</td>\n",
       "      <td>4.884179</td>\n",
       "      <td>4.960914</td>\n",
       "      <td>5.027091</td>\n",
       "    </tr>\n",
       "    <tr>\n",
       "      <th>max</th>\n",
       "      <td>5.729662</td>\n",
       "      <td>5.561518</td>\n",
       "      <td>5.736247</td>\n",
       "      <td>5.582944</td>\n",
       "    </tr>\n",
       "  </tbody>\n",
       "</table>\n",
       "</div>"
      ],
      "text/plain": [
       "              FAB         CSB       CSFAB        PSOB\n",
       "count  100.000000  100.000000  100.000000  100.000000\n",
       "mean     4.763491    4.618713    4.726150    4.666280\n",
       "std      0.434461    0.372240    0.372371    0.414410\n",
       "min      3.676366    3.588247    3.941794    3.717882\n",
       "25%      4.521240    4.389379    4.502448    4.374568\n",
       "50%      4.799624    4.589693    4.725303    4.656184\n",
       "75%      5.034787    4.884179    4.960914    5.027091\n",
       "max      5.729662    5.561518    5.736247    5.582944"
      ]
     },
     "execution_count": 14,
     "metadata": {},
     "output_type": "execute_result"
    }
   ],
   "source": [
    "yc_meanP_df = pd.read_csv('./YC/meanP.csv', index_col=0).drop(labels='QPSOB', axis=1)\n",
    "yc_meanP_df.describe()"
   ]
  },
  {
   "cell_type": "code",
   "execution_count": 15,
   "metadata": {},
   "outputs": [
    {
     "data": {
      "text/html": [
       "<div>\n",
       "<style scoped>\n",
       "    .dataframe tbody tr th:only-of-type {\n",
       "        vertical-align: middle;\n",
       "    }\n",
       "\n",
       "    .dataframe tbody tr th {\n",
       "        vertical-align: top;\n",
       "    }\n",
       "\n",
       "    .dataframe thead th {\n",
       "        text-align: right;\n",
       "    }\n",
       "</style>\n",
       "<table border=\"1\" class=\"dataframe\">\n",
       "  <thead>\n",
       "    <tr style=\"text-align: right;\">\n",
       "      <th></th>\n",
       "      <th>FAB</th>\n",
       "      <th>CSB</th>\n",
       "      <th>CSFAB</th>\n",
       "      <th>PSOB</th>\n",
       "    </tr>\n",
       "  </thead>\n",
       "  <tbody>\n",
       "    <tr>\n",
       "      <th>count</th>\n",
       "      <td>100.000000</td>\n",
       "      <td>100.000000</td>\n",
       "      <td>100.000000</td>\n",
       "      <td>100.000000</td>\n",
       "    </tr>\n",
       "    <tr>\n",
       "      <th>mean</th>\n",
       "      <td>4.360499</td>\n",
       "      <td>4.255481</td>\n",
       "      <td>4.434761</td>\n",
       "      <td>4.307972</td>\n",
       "    </tr>\n",
       "    <tr>\n",
       "      <th>std</th>\n",
       "      <td>0.099888</td>\n",
       "      <td>0.112322</td>\n",
       "      <td>0.131812</td>\n",
       "      <td>0.090715</td>\n",
       "    </tr>\n",
       "    <tr>\n",
       "      <th>min</th>\n",
       "      <td>4.062409</td>\n",
       "      <td>4.047366</td>\n",
       "      <td>4.113660</td>\n",
       "      <td>4.094620</td>\n",
       "    </tr>\n",
       "    <tr>\n",
       "      <th>25%</th>\n",
       "      <td>4.306718</td>\n",
       "      <td>4.149811</td>\n",
       "      <td>4.320899</td>\n",
       "      <td>4.238399</td>\n",
       "    </tr>\n",
       "    <tr>\n",
       "      <th>50%</th>\n",
       "      <td>4.347648</td>\n",
       "      <td>4.280356</td>\n",
       "      <td>4.451096</td>\n",
       "      <td>4.296434</td>\n",
       "    </tr>\n",
       "    <tr>\n",
       "      <th>75%</th>\n",
       "      <td>4.412591</td>\n",
       "      <td>4.340035</td>\n",
       "      <td>4.533646</td>\n",
       "      <td>4.361995</td>\n",
       "    </tr>\n",
       "    <tr>\n",
       "      <th>max</th>\n",
       "      <td>4.674933</td>\n",
       "      <td>4.509638</td>\n",
       "      <td>4.706261</td>\n",
       "      <td>4.554917</td>\n",
       "    </tr>\n",
       "  </tbody>\n",
       "</table>\n",
       "</div>"
      ],
      "text/plain": [
       "              FAB         CSB       CSFAB        PSOB\n",
       "count  100.000000  100.000000  100.000000  100.000000\n",
       "mean     4.360499    4.255481    4.434761    4.307972\n",
       "std      0.099888    0.112322    0.131812    0.090715\n",
       "min      4.062409    4.047366    4.113660    4.094620\n",
       "25%      4.306718    4.149811    4.320899    4.238399\n",
       "50%      4.347648    4.280356    4.451096    4.296434\n",
       "75%      4.412591    4.340035    4.533646    4.361995\n",
       "max      4.674933    4.509638    4.706261    4.554917"
      ]
     },
     "execution_count": 15,
     "metadata": {},
     "output_type": "execute_result"
    }
   ],
   "source": [
    "pbc_meanP_df = pd.read_csv('./PBC/meanP.csv', index_col=0).drop(labels='QPSOB', axis=1)\n",
    "pbc_meanP_df.describe()"
   ]
  },
  {
   "cell_type": "code",
   "execution_count": 16,
   "metadata": {},
   "outputs": [
    {
     "data": {
      "text/html": [
       "<div>\n",
       "<style scoped>\n",
       "    .dataframe tbody tr th:only-of-type {\n",
       "        vertical-align: middle;\n",
       "    }\n",
       "\n",
       "    .dataframe tbody tr th {\n",
       "        vertical-align: top;\n",
       "    }\n",
       "\n",
       "    .dataframe thead th {\n",
       "        text-align: right;\n",
       "    }\n",
       "</style>\n",
       "<table border=\"1\" class=\"dataframe\">\n",
       "  <thead>\n",
       "    <tr style=\"text-align: right;\">\n",
       "      <th></th>\n",
       "      <th>FAB</th>\n",
       "      <th>CSB</th>\n",
       "      <th>CSFAB</th>\n",
       "      <th>PSOB</th>\n",
       "    </tr>\n",
       "  </thead>\n",
       "  <tbody>\n",
       "    <tr>\n",
       "      <th>count</th>\n",
       "      <td>100.000000</td>\n",
       "      <td>100.000000</td>\n",
       "      <td>100.000000</td>\n",
       "      <td>100.000000</td>\n",
       "    </tr>\n",
       "    <tr>\n",
       "      <th>mean</th>\n",
       "      <td>4.565646</td>\n",
       "      <td>4.655800</td>\n",
       "      <td>4.670494</td>\n",
       "      <td>4.558989</td>\n",
       "    </tr>\n",
       "    <tr>\n",
       "      <th>std</th>\n",
       "      <td>1.102976</td>\n",
       "      <td>1.098160</td>\n",
       "      <td>1.135195</td>\n",
       "      <td>1.036974</td>\n",
       "    </tr>\n",
       "    <tr>\n",
       "      <th>min</th>\n",
       "      <td>2.636987</td>\n",
       "      <td>2.408095</td>\n",
       "      <td>2.412144</td>\n",
       "      <td>2.724637</td>\n",
       "    </tr>\n",
       "    <tr>\n",
       "      <th>25%</th>\n",
       "      <td>3.663395</td>\n",
       "      <td>3.944494</td>\n",
       "      <td>3.799576</td>\n",
       "      <td>3.812537</td>\n",
       "    </tr>\n",
       "    <tr>\n",
       "      <th>50%</th>\n",
       "      <td>4.380038</td>\n",
       "      <td>4.498910</td>\n",
       "      <td>4.587616</td>\n",
       "      <td>4.453050</td>\n",
       "    </tr>\n",
       "    <tr>\n",
       "      <th>75%</th>\n",
       "      <td>5.329023</td>\n",
       "      <td>5.423389</td>\n",
       "      <td>5.400506</td>\n",
       "      <td>5.325216</td>\n",
       "    </tr>\n",
       "    <tr>\n",
       "      <th>max</th>\n",
       "      <td>7.285672</td>\n",
       "      <td>7.383854</td>\n",
       "      <td>7.637088</td>\n",
       "      <td>6.916764</td>\n",
       "    </tr>\n",
       "  </tbody>\n",
       "</table>\n",
       "</div>"
      ],
      "text/plain": [
       "              FAB         CSB       CSFAB        PSOB\n",
       "count  100.000000  100.000000  100.000000  100.000000\n",
       "mean     4.565646    4.655800    4.670494    4.558989\n",
       "std      1.102976    1.098160    1.135195    1.036974\n",
       "min      2.636987    2.408095    2.412144    2.724637\n",
       "25%      3.663395    3.944494    3.799576    3.812537\n",
       "50%      4.380038    4.498910    4.587616    4.453050\n",
       "75%      5.329023    5.423389    5.400506    5.325216\n",
       "max      7.285672    7.383854    7.637088    6.916764"
      ]
     },
     "execution_count": 16,
     "metadata": {},
     "output_type": "execute_result"
    }
   ],
   "source": [
    "rat_meanP_df = pd.read_csv('./RAT/meanP.csv', index_col=0).drop(labels='QPSOB', axis=1)\n",
    "rat_meanP_df.describe()"
   ]
  },
  {
   "cell_type": "code",
   "execution_count": 17,
   "metadata": {},
   "outputs": [
    {
     "data": {
      "text/plain": [
       "Text(0.5, 0, '')"
      ]
     },
     "execution_count": 17,
     "metadata": {},
     "output_type": "execute_result"
    },
    {
     "data": {
      "image/png": "[encoded data removed]",
      "text/plain": [
       "<Figure size 432x288 with 1 Axes>"
      ]
     },
     "metadata": {},
     "output_type": "display_data"
    }
   ],
   "source": [
    "ax = sns.boxplot(x=\"variable\", y=\"value\", data=pd.melt(bcll_meanP_df))\n",
    "ax.set_ylabel('')    \n",
    "ax.set_xlabel('')"
   ]
  },
  {
   "cell_type": "code",
   "execution_count": 18,
   "metadata": {},
   "outputs": [
    {
     "data": {
      "text/plain": [
       "Text(0.5, 0, '')"
      ]
     },
     "execution_count": 18,
     "metadata": {},
     "output_type": "execute_result"
    },
    {
     "data": {
      "image/png": "[encoded data removed]",
      "text/plain": [
       "<Figure size 432x288 with 1 Axes>"
      ]
     },
     "metadata": {},
     "output_type": "display_data"
    }
   ],
   "source": [
    "ax = sns.boxplot(x=\"variable\", y=\"value\", data=pd.melt(yc_meanP_df))\n",
    "ax.set_ylabel('')    \n",
    "ax.set_xlabel('')"
   ]
  },
  {
   "cell_type": "code",
   "execution_count": 19,
   "metadata": {},
   "outputs": [
    {
     "data": {
      "text/plain": [
       "Text(0.5, 0, '')"
      ]
     },
     "execution_count": 19,
     "metadata": {},
     "output_type": "execute_result"
    },
    {
     "data": {
      "image/png": "[encoded data removed]",
      "text/plain": [
       "<Figure size 432x288 with 1 Axes>"
      ]
     },
     "metadata": {},
     "output_type": "display_data"
    }
   ],
   "source": [
    "ax = sns.boxplot(x=\"variable\", y=\"value\", data=pd.melt(pbc_meanP_df))\n",
    "ax.set_ylabel('')    \n",
    "ax.set_xlabel('')"
   ]
  },
  {
   "cell_type": "code",
   "execution_count": 20,
   "metadata": {},
   "outputs": [
    {
     "data": {
      "text/plain": [
       "Text(0.5, 0, '')"
      ]
     },
     "execution_count": 20,
     "metadata": {},
     "output_type": "execute_result"
    },
    {
     "data": {
      "image/png": "[encoded data removed]",
      "text/plain": [
       "<Figure size 432x288 with 1 Axes>"
      ]
     },
     "metadata": {},
     "output_type": "display_data"
    }
   ],
   "source": [
    "ax = sns.boxplot(x=\"variable\", y=\"value\", data=pd.melt(rat_meanP_df))\n",
    "ax.set_ylabel('')    \n",
    "ax.set_xlabel('')"
   ]
  },
  {
   "cell_type": "code",
   "execution_count": null,
   "metadata": {},
   "outputs": [],
   "source": []
  }
 ],
 "metadata": {
  "kernelspec": {
   "display_name": "Python 3",
   "language": "python",
   "name": "python3"
  },
  "language_info": {
   "codemirror_mode": {
    "name": "ipython",
    "version": 3
   },
   "file_extension": ".py",
   "mimetype": "text/x-python",
   "name": "python",
   "nbconvert_exporter": "python",
   "pygments_lexer": "ipython3",
   "version": "3.7.5"
  }
 },
 "nbformat": 4,
 "nbformat_minor": 2
}
