{
 "cells": [
  {
   "cell_type": "code",
   "execution_count": 1,
   "metadata": {},
   "outputs": [
    {
     "name": "stderr",
     "output_type": "stream",
     "text": [
      "/opt/anaconda3/envs/R/lib/python3.7/site-packages/statsmodels/tools/_testing.py:19: FutureWarning: pandas.util.testing is deprecated. Use the functions in the public API at pandas.testing instead.\n",
      "  import pandas.util.testing as tm\n"
     ]
    }
   ],
   "source": [
    "import pandas as pd\n",
    "import numpy as np\n",
    "import matplotlib.pyplot as plt\n",
    "import seaborn as sns\n",
    "from glob import glob\n",
    "import os\n",
    "%matplotlib inline"
   ]
  },
  {
   "cell_type": "code",
   "execution_count": 2,
   "metadata": {},
   "outputs": [],
   "source": [
    "sns.set_style(\"whitegrid\")"
   ]
  },
  {
   "cell_type": "code",
   "execution_count": 3,
   "metadata": {},
   "outputs": [
    {
     "data": {
      "text/html": [
       "<div>\n",
       "<style scoped>\n",
       "    .dataframe tbody tr th:only-of-type {\n",
       "        vertical-align: middle;\n",
       "    }\n",
       "\n",
       "    .dataframe tbody tr th {\n",
       "        vertical-align: top;\n",
       "    }\n",
       "\n",
       "    .dataframe thead th {\n",
       "        text-align: right;\n",
       "    }\n",
       "</style>\n",
       "<table border=\"1\" class=\"dataframe\">\n",
       "  <thead>\n",
       "    <tr style=\"text-align: right;\">\n",
       "      <th></th>\n",
       "      <th>FAB</th>\n",
       "      <th>CSB</th>\n",
       "      <th>CSFAB</th>\n",
       "      <th>PSOB</th>\n",
       "    </tr>\n",
       "  </thead>\n",
       "  <tbody>\n",
       "    <tr>\n",
       "      <th>count</th>\n",
       "      <td>100.000000</td>\n",
       "      <td>100.000000</td>\n",
       "      <td>100.000000</td>\n",
       "      <td>100.000000</td>\n",
       "    </tr>\n",
       "    <tr>\n",
       "      <th>mean</th>\n",
       "      <td>0.019341</td>\n",
       "      <td>0.008542</td>\n",
       "      <td>0.030723</td>\n",
       "      <td>0.016535</td>\n",
       "    </tr>\n",
       "    <tr>\n",
       "      <th>std</th>\n",
       "      <td>0.003502</td>\n",
       "      <td>0.003382</td>\n",
       "      <td>0.003286</td>\n",
       "      <td>0.003188</td>\n",
       "    </tr>\n",
       "    <tr>\n",
       "      <th>min</th>\n",
       "      <td>0.011550</td>\n",
       "      <td>0.000221</td>\n",
       "      <td>0.018686</td>\n",
       "      <td>0.010560</td>\n",
       "    </tr>\n",
       "    <tr>\n",
       "      <th>25%</th>\n",
       "      <td>0.016816</td>\n",
       "      <td>0.006840</td>\n",
       "      <td>0.029158</td>\n",
       "      <td>0.014712</td>\n",
       "    </tr>\n",
       "    <tr>\n",
       "      <th>50%</th>\n",
       "      <td>0.019079</td>\n",
       "      <td>0.008803</td>\n",
       "      <td>0.030962</td>\n",
       "      <td>0.016483</td>\n",
       "    </tr>\n",
       "    <tr>\n",
       "      <th>75%</th>\n",
       "      <td>0.021816</td>\n",
       "      <td>0.010774</td>\n",
       "      <td>0.032583</td>\n",
       "      <td>0.018545</td>\n",
       "    </tr>\n",
       "    <tr>\n",
       "      <th>max</th>\n",
       "      <td>0.026997</td>\n",
       "      <td>0.014839</td>\n",
       "      <td>0.038692</td>\n",
       "      <td>0.024193</td>\n",
       "    </tr>\n",
       "  </tbody>\n",
       "</table>\n",
       "</div>"
      ],
      "text/plain": [
       "              FAB         CSB       CSFAB        PSOB\n",
       "count  100.000000  100.000000  100.000000  100.000000\n",
       "mean     0.019341    0.008542    0.030723    0.016535\n",
       "std      0.003502    0.003382    0.003286    0.003188\n",
       "min      0.011550    0.000221    0.018686    0.010560\n",
       "25%      0.016816    0.006840    0.029158    0.014712\n",
       "50%      0.019079    0.008803    0.030962    0.016483\n",
       "75%      0.021816    0.010774    0.032583    0.018545\n",
       "max      0.026997    0.014839    0.038692    0.024193"
      ]
     },
     "execution_count": 3,
     "metadata": {},
     "output_type": "execute_result"
    }
   ],
   "source": [
    "bcll_ri_df = pd.read_csv('./BCLL/ri.csv', index_col=0).drop(labels='QPSOB', axis=1)\n",
    "bcll_ri_df.describe()"
   ]
  },
  {
   "cell_type": "code",
   "execution_count": 4,
   "metadata": {},
   "outputs": [
    {
     "data": {
      "text/html": [
       "<div>\n",
       "<style scoped>\n",
       "    .dataframe tbody tr th:only-of-type {\n",
       "        vertical-align: middle;\n",
       "    }\n",
       "\n",
       "    .dataframe tbody tr th {\n",
       "        vertical-align: top;\n",
       "    }\n",
       "\n",
       "    .dataframe thead th {\n",
       "        text-align: right;\n",
       "    }\n",
       "</style>\n",
       "<table border=\"1\" class=\"dataframe\">\n",
       "  <thead>\n",
       "    <tr style=\"text-align: right;\">\n",
       "      <th></th>\n",
       "      <th>FAB</th>\n",
       "      <th>CSB</th>\n",
       "      <th>CSFAB</th>\n",
       "      <th>PSOB</th>\n",
       "    </tr>\n",
       "  </thead>\n",
       "  <tbody>\n",
       "    <tr>\n",
       "      <th>count</th>\n",
       "      <td>100.000000</td>\n",
       "      <td>100.000000</td>\n",
       "      <td>100.000000</td>\n",
       "      <td>100.000000</td>\n",
       "    </tr>\n",
       "    <tr>\n",
       "      <th>mean</th>\n",
       "      <td>0.006672</td>\n",
       "      <td>0.000013</td>\n",
       "      <td>0.004990</td>\n",
       "      <td>0.007277</td>\n",
       "    </tr>\n",
       "    <tr>\n",
       "      <th>std</th>\n",
       "      <td>0.004852</td>\n",
       "      <td>0.004735</td>\n",
       "      <td>0.004905</td>\n",
       "      <td>0.004958</td>\n",
       "    </tr>\n",
       "    <tr>\n",
       "      <th>min</th>\n",
       "      <td>-0.006910</td>\n",
       "      <td>-0.014301</td>\n",
       "      <td>-0.004912</td>\n",
       "      <td>-0.007315</td>\n",
       "    </tr>\n",
       "    <tr>\n",
       "      <th>25%</th>\n",
       "      <td>0.003299</td>\n",
       "      <td>-0.003096</td>\n",
       "      <td>0.001197</td>\n",
       "      <td>0.004212</td>\n",
       "    </tr>\n",
       "    <tr>\n",
       "      <th>50%</th>\n",
       "      <td>0.006936</td>\n",
       "      <td>-0.000193</td>\n",
       "      <td>0.004913</td>\n",
       "      <td>0.007549</td>\n",
       "    </tr>\n",
       "    <tr>\n",
       "      <th>75%</th>\n",
       "      <td>0.009595</td>\n",
       "      <td>0.003516</td>\n",
       "      <td>0.008206</td>\n",
       "      <td>0.010121</td>\n",
       "    </tr>\n",
       "    <tr>\n",
       "      <th>max</th>\n",
       "      <td>0.019332</td>\n",
       "      <td>0.012647</td>\n",
       "      <td>0.017837</td>\n",
       "      <td>0.018393</td>\n",
       "    </tr>\n",
       "  </tbody>\n",
       "</table>\n",
       "</div>"
      ],
      "text/plain": [
       "              FAB         CSB       CSFAB        PSOB\n",
       "count  100.000000  100.000000  100.000000  100.000000\n",
       "mean     0.006672    0.000013    0.004990    0.007277\n",
       "std      0.004852    0.004735    0.004905    0.004958\n",
       "min     -0.006910   -0.014301   -0.004912   -0.007315\n",
       "25%      0.003299   -0.003096    0.001197    0.004212\n",
       "50%      0.006936   -0.000193    0.004913    0.007549\n",
       "75%      0.009595    0.003516    0.008206    0.010121\n",
       "max      0.019332    0.012647    0.017837    0.018393"
      ]
     },
     "execution_count": 4,
     "metadata": {},
     "output_type": "execute_result"
    }
   ],
   "source": [
    "yc_ri_df = pd.read_csv('./YC/ri.csv', index_col=0).drop(labels='QPSOB', axis=1)\n",
    "yc_ri_df.describe()"
   ]
  },
  {
   "cell_type": "code",
   "execution_count": 5,
   "metadata": {},
   "outputs": [
    {
     "data": {
      "text/html": [
       "<div>\n",
       "<style scoped>\n",
       "    .dataframe tbody tr th:only-of-type {\n",
       "        vertical-align: middle;\n",
       "    }\n",
       "\n",
       "    .dataframe tbody tr th {\n",
       "        vertical-align: top;\n",
       "    }\n",
       "\n",
       "    .dataframe thead th {\n",
       "        text-align: right;\n",
       "    }\n",
       "</style>\n",
       "<table border=\"1\" class=\"dataframe\">\n",
       "  <thead>\n",
       "    <tr style=\"text-align: right;\">\n",
       "      <th></th>\n",
       "      <th>FAB</th>\n",
       "      <th>CSB</th>\n",
       "      <th>CSFAB</th>\n",
       "      <th>PSOB</th>\n",
       "    </tr>\n",
       "  </thead>\n",
       "  <tbody>\n",
       "    <tr>\n",
       "      <th>count</th>\n",
       "      <td>100.000000</td>\n",
       "      <td>100.000000</td>\n",
       "      <td>100.000000</td>\n",
       "      <td>100.000000</td>\n",
       "    </tr>\n",
       "    <tr>\n",
       "      <th>mean</th>\n",
       "      <td>0.002263</td>\n",
       "      <td>0.000453</td>\n",
       "      <td>0.003353</td>\n",
       "      <td>0.001694</td>\n",
       "    </tr>\n",
       "    <tr>\n",
       "      <th>std</th>\n",
       "      <td>0.001370</td>\n",
       "      <td>0.001640</td>\n",
       "      <td>0.001421</td>\n",
       "      <td>0.001285</td>\n",
       "    </tr>\n",
       "    <tr>\n",
       "      <th>min</th>\n",
       "      <td>-0.000694</td>\n",
       "      <td>-0.002079</td>\n",
       "      <td>0.000217</td>\n",
       "      <td>-0.001291</td>\n",
       "    </tr>\n",
       "    <tr>\n",
       "      <th>25%</th>\n",
       "      <td>0.001253</td>\n",
       "      <td>-0.001206</td>\n",
       "      <td>0.002296</td>\n",
       "      <td>0.000946</td>\n",
       "    </tr>\n",
       "    <tr>\n",
       "      <th>50%</th>\n",
       "      <td>0.002433</td>\n",
       "      <td>0.000575</td>\n",
       "      <td>0.002835</td>\n",
       "      <td>0.001743</td>\n",
       "    </tr>\n",
       "    <tr>\n",
       "      <th>75%</th>\n",
       "      <td>0.003318</td>\n",
       "      <td>0.001690</td>\n",
       "      <td>0.004417</td>\n",
       "      <td>0.002597</td>\n",
       "    </tr>\n",
       "    <tr>\n",
       "      <th>max</th>\n",
       "      <td>0.005351</td>\n",
       "      <td>0.003354</td>\n",
       "      <td>0.007607</td>\n",
       "      <td>0.005055</td>\n",
       "    </tr>\n",
       "  </tbody>\n",
       "</table>\n",
       "</div>"
      ],
      "text/plain": [
       "              FAB         CSB       CSFAB        PSOB\n",
       "count  100.000000  100.000000  100.000000  100.000000\n",
       "mean     0.002263    0.000453    0.003353    0.001694\n",
       "std      0.001370    0.001640    0.001421    0.001285\n",
       "min     -0.000694   -0.002079    0.000217   -0.001291\n",
       "25%      0.001253   -0.001206    0.002296    0.000946\n",
       "50%      0.002433    0.000575    0.002835    0.001743\n",
       "75%      0.003318    0.001690    0.004417    0.002597\n",
       "max      0.005351    0.003354    0.007607    0.005055"
      ]
     },
     "execution_count": 5,
     "metadata": {},
     "output_type": "execute_result"
    }
   ],
   "source": [
    "pbc_ri_df = pd.read_csv('./PBC/ri.csv', index_col=0).drop(labels='QPSOB', axis=1)\n",
    "pbc_ri_df.describe()"
   ]
  },
  {
   "cell_type": "code",
   "execution_count": 6,
   "metadata": {},
   "outputs": [
    {
     "data": {
      "text/html": [
       "<div>\n",
       "<style scoped>\n",
       "    .dataframe tbody tr th:only-of-type {\n",
       "        vertical-align: middle;\n",
       "    }\n",
       "\n",
       "    .dataframe tbody tr th {\n",
       "        vertical-align: top;\n",
       "    }\n",
       "\n",
       "    .dataframe thead th {\n",
       "        text-align: right;\n",
       "    }\n",
       "</style>\n",
       "<table border=\"1\" class=\"dataframe\">\n",
       "  <thead>\n",
       "    <tr style=\"text-align: right;\">\n",
       "      <th></th>\n",
       "      <th>FAB</th>\n",
       "      <th>CSB</th>\n",
       "      <th>CSFAB</th>\n",
       "      <th>PSOB</th>\n",
       "    </tr>\n",
       "  </thead>\n",
       "  <tbody>\n",
       "    <tr>\n",
       "      <th>count</th>\n",
       "      <td>100.000000</td>\n",
       "      <td>100.000000</td>\n",
       "      <td>100.000000</td>\n",
       "      <td>100.000000</td>\n",
       "    </tr>\n",
       "    <tr>\n",
       "      <th>mean</th>\n",
       "      <td>0.016437</td>\n",
       "      <td>0.004064</td>\n",
       "      <td>0.021377</td>\n",
       "      <td>0.013528</td>\n",
       "    </tr>\n",
       "    <tr>\n",
       "      <th>std</th>\n",
       "      <td>0.004677</td>\n",
       "      <td>0.004973</td>\n",
       "      <td>0.004726</td>\n",
       "      <td>0.004488</td>\n",
       "    </tr>\n",
       "    <tr>\n",
       "      <th>min</th>\n",
       "      <td>0.001555</td>\n",
       "      <td>-0.006706</td>\n",
       "      <td>0.009679</td>\n",
       "      <td>0.001265</td>\n",
       "    </tr>\n",
       "    <tr>\n",
       "      <th>25%</th>\n",
       "      <td>0.013227</td>\n",
       "      <td>0.000031</td>\n",
       "      <td>0.018290</td>\n",
       "      <td>0.010861</td>\n",
       "    </tr>\n",
       "    <tr>\n",
       "      <th>50%</th>\n",
       "      <td>0.016832</td>\n",
       "      <td>0.003863</td>\n",
       "      <td>0.021898</td>\n",
       "      <td>0.013168</td>\n",
       "    </tr>\n",
       "    <tr>\n",
       "      <th>75%</th>\n",
       "      <td>0.019845</td>\n",
       "      <td>0.007157</td>\n",
       "      <td>0.024794</td>\n",
       "      <td>0.016447</td>\n",
       "    </tr>\n",
       "    <tr>\n",
       "      <th>max</th>\n",
       "      <td>0.026134</td>\n",
       "      <td>0.019122</td>\n",
       "      <td>0.030064</td>\n",
       "      <td>0.025038</td>\n",
       "    </tr>\n",
       "  </tbody>\n",
       "</table>\n",
       "</div>"
      ],
      "text/plain": [
       "              FAB         CSB       CSFAB        PSOB\n",
       "count  100.000000  100.000000  100.000000  100.000000\n",
       "mean     0.016437    0.004064    0.021377    0.013528\n",
       "std      0.004677    0.004973    0.004726    0.004488\n",
       "min      0.001555   -0.006706    0.009679    0.001265\n",
       "25%      0.013227    0.000031    0.018290    0.010861\n",
       "50%      0.016832    0.003863    0.021898    0.013168\n",
       "75%      0.019845    0.007157    0.024794    0.016447\n",
       "max      0.026134    0.019122    0.030064    0.025038"
      ]
     },
     "execution_count": 6,
     "metadata": {},
     "output_type": "execute_result"
    }
   ],
   "source": [
    "rat_ri_df = pd.read_csv('./RAT/ri.csv', index_col=0).drop(labels='QPSOB', axis=1)\n",
    "rat_ri_df.describe()"
   ]
  },
  {
   "cell_type": "code",
   "execution_count": 7,
   "metadata": {},
   "outputs": [
    {
     "data": {
      "text/plain": [
       "Text(0.5, 0, '')"
      ]
     },
     "execution_count": 7,
     "metadata": {},
     "output_type": "execute_result"
    },
    {
     "data": {
      "image/png": "[encoded data removed]",
      "text/plain": [
       "<Figure size 432x288 with 1 Axes>"
      ]
     },
     "metadata": {},
     "output_type": "display_data"
    }
   ],
   "source": [
    "ax = sns.boxplot(x=\"variable\", y=\"value\", data=pd.melt(bcll_ri_df))\n",
    "ax.set_ylabel('')    \n",
    "ax.set_xlabel('')"
   ]
  },
  {
   "cell_type": "code",
   "execution_count": 8,
   "metadata": {},
   "outputs": [
    {
     "data": {
      "text/plain": [
       "Text(0.5, 0, '')"
      ]
     },
     "execution_count": 8,
     "metadata": {},
     "output_type": "execute_result"
    },
    {
     "data": {
      "image/png": "[encoded data removed]",
      "text/plain": [
       "<Figure size 432x288 with 1 Axes>"
      ]
     },
     "metadata": {},
     "output_type": "display_data"
    }
   ],
   "source": [
    "ax = sns.boxplot(x=\"variable\", y=\"value\", data=pd.melt(yc_ri_df))\n",
    "ax.set_ylabel('')    \n",
    "ax.set_xlabel('')"
   ]
  },
  {
   "cell_type": "code",
   "execution_count": 9,
   "metadata": {},
   "outputs": [
    {
     "data": {
      "text/plain": [
       "Text(0.5, 0, '')"
      ]
     },
     "execution_count": 9,
     "metadata": {},
     "output_type": "execute_result"
    },
    {
     "data": {
      "image/png": "[encoded data removed]",
      "text/plain": [
       "<Figure size 432x288 with 1 Axes>"
      ]
     },
     "metadata": {},
     "output_type": "display_data"
    }
   ],
   "source": [
    "ax = sns.boxplot(x=\"variable\", y=\"value\", data=pd.melt(pbc_ri_df))\n",
    "ax.set_ylabel('')    \n",
    "ax.set_xlabel('')"
   ]
  },
  {
   "cell_type": "code",
   "execution_count": 10,
   "metadata": {},
   "outputs": [
    {
     "data": {
      "text/plain": [
       "Text(0.5, 0, '')"
      ]
     },
     "execution_count": 10,
     "metadata": {},
     "output_type": "execute_result"
    },
    {
     "data": {
      "image/png": "[encoded data removed]",
      "text/plain": [
       "<Figure size 432x288 with 1 Axes>"
      ]
     },
     "metadata": {},
     "output_type": "display_data"
    }
   ],
   "source": [
    "ax = sns.boxplot(x=\"variable\", y=\"value\", data=pd.melt(rat_ri_df))\n",
    "ax.set_ylabel('')    \n",
    "ax.set_xlabel('')"
   ]
  },
  {
   "cell_type": "code",
   "execution_count": null,
   "metadata": {},
   "outputs": [],
   "source": []
  }
 ],
 "metadata": {
  "kernelspec": {
   "display_name": "Python 3",
   "language": "python",
   "name": "python3"
  },
  "language_info": {
   "codemirror_mode": {
    "name": "ipython",
    "version": 3
   },
   "file_extension": ".py",
   "mimetype": "text/x-python",
   "name": "python",
   "nbconvert_exporter": "python",
   "pygments_lexer": "ipython3",
   "version": "3.7.5"
  }
 },
 "nbformat": 4,
 "nbformat_minor": 2
}
