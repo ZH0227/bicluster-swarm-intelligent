{
 "cells": [
  {
   "cell_type": "code",
   "execution_count": 1,
   "metadata": {},
   "outputs": [
    {
     "name": "stderr",
     "output_type": "stream",
     "text": [
      "/opt/anaconda3/envs/R/lib/python3.7/site-packages/statsmodels/tools/_testing.py:19: FutureWarning: pandas.util.testing is deprecated. Use the functions in the public API at pandas.testing instead.\n",
      "  import pandas.util.testing as tm\n"
     ]
    }
   ],
   "source": [
    "import pandas as pd\n",
    "import numpy as np\n",
    "import matplotlib.pyplot as plt\n",
    "import seaborn as sns\n",
    "from glob import glob\n",
    "import os\n",
    "%matplotlib inline"
   ]
  },
  {
   "cell_type": "code",
   "execution_count": 2,
   "metadata": {},
   "outputs": [],
   "source": [
    "sns.set_style(\"whitegrid\")"
   ]
  },
  {
   "cell_type": "code",
   "execution_count": 3,
   "metadata": {},
   "outputs": [
    {
     "data": {
      "text/html": [
       "<div>\n",
       "<style scoped>\n",
       "    .dataframe tbody tr th:only-of-type {\n",
       "        vertical-align: middle;\n",
       "    }\n",
       "\n",
       "    .dataframe tbody tr th {\n",
       "        vertical-align: top;\n",
       "    }\n",
       "\n",
       "    .dataframe thead th {\n",
       "        text-align: right;\n",
       "    }\n",
       "</style>\n",
       "<table border=\"1\" class=\"dataframe\">\n",
       "  <thead>\n",
       "    <tr style=\"text-align: right;\">\n",
       "      <th></th>\n",
       "      <th>FAB</th>\n",
       "      <th>CSB</th>\n",
       "      <th>CSFAB</th>\n",
       "      <th>PSOB</th>\n",
       "    </tr>\n",
       "  </thead>\n",
       "  <tbody>\n",
       "    <tr>\n",
       "      <th>count</th>\n",
       "      <td>100.000000</td>\n",
       "      <td>100.000000</td>\n",
       "      <td>100.000000</td>\n",
       "      <td>100.000000</td>\n",
       "    </tr>\n",
       "    <tr>\n",
       "      <th>mean</th>\n",
       "      <td>296.212770</td>\n",
       "      <td>309.224031</td>\n",
       "      <td>277.049466</td>\n",
       "      <td>302.597723</td>\n",
       "    </tr>\n",
       "    <tr>\n",
       "      <th>std</th>\n",
       "      <td>7.294468</td>\n",
       "      <td>6.959299</td>\n",
       "      <td>2.991824</td>\n",
       "      <td>15.785232</td>\n",
       "    </tr>\n",
       "    <tr>\n",
       "      <th>min</th>\n",
       "      <td>274.974644</td>\n",
       "      <td>285.079378</td>\n",
       "      <td>271.051715</td>\n",
       "      <td>280.204217</td>\n",
       "    </tr>\n",
       "    <tr>\n",
       "      <th>25%</th>\n",
       "      <td>293.108054</td>\n",
       "      <td>309.330136</td>\n",
       "      <td>274.342032</td>\n",
       "      <td>296.468270</td>\n",
       "    </tr>\n",
       "    <tr>\n",
       "      <th>50%</th>\n",
       "      <td>295.385766</td>\n",
       "      <td>310.672754</td>\n",
       "      <td>276.501439</td>\n",
       "      <td>298.500848</td>\n",
       "    </tr>\n",
       "    <tr>\n",
       "      <th>75%</th>\n",
       "      <td>298.550907</td>\n",
       "      <td>312.720915</td>\n",
       "      <td>279.063417</td>\n",
       "      <td>302.483111</td>\n",
       "    </tr>\n",
       "    <tr>\n",
       "      <th>max</th>\n",
       "      <td>329.046999</td>\n",
       "      <td>321.378103</td>\n",
       "      <td>284.616449</td>\n",
       "      <td>359.030934</td>\n",
       "    </tr>\n",
       "  </tbody>\n",
       "</table>\n",
       "</div>"
      ],
      "text/plain": [
       "              FAB         CSB       CSFAB        PSOB\n",
       "count  100.000000  100.000000  100.000000  100.000000\n",
       "mean   296.212770  309.224031  277.049466  302.597723\n",
       "std      7.294468    6.959299    2.991824   15.785232\n",
       "min    274.974644  285.079378  271.051715  280.204217\n",
       "25%    293.108054  309.330136  274.342032  296.468270\n",
       "50%    295.385766  310.672754  276.501439  298.500848\n",
       "75%    298.550907  312.720915  279.063417  302.483111\n",
       "max    329.046999  321.378103  284.616449  359.030934"
      ]
     },
     "execution_count": 3,
     "metadata": {},
     "output_type": "execute_result"
    }
   ],
   "source": [
    "bcll_msr_df = pd.read_csv('./BCLL/msr.csv', index_col=0).drop(labels='QPSOB', axis=1)\n",
    "bcll_msr_df.describe()"
   ]
  },
  {
   "cell_type": "code",
   "execution_count": 4,
   "metadata": {},
   "outputs": [
    {
     "data": {
      "text/html": [
       "<div>\n",
       "<style scoped>\n",
       "    .dataframe tbody tr th:only-of-type {\n",
       "        vertical-align: middle;\n",
       "    }\n",
       "\n",
       "    .dataframe tbody tr th {\n",
       "        vertical-align: top;\n",
       "    }\n",
       "\n",
       "    .dataframe thead th {\n",
       "        text-align: right;\n",
       "    }\n",
       "</style>\n",
       "<table border=\"1\" class=\"dataframe\">\n",
       "  <thead>\n",
       "    <tr style=\"text-align: right;\">\n",
       "      <th></th>\n",
       "      <th>FAB</th>\n",
       "      <th>CSB</th>\n",
       "      <th>CSFAB</th>\n",
       "      <th>PSOB</th>\n",
       "    </tr>\n",
       "  </thead>\n",
       "  <tbody>\n",
       "    <tr>\n",
       "      <th>count</th>\n",
       "      <td>100.000000</td>\n",
       "      <td>100.000000</td>\n",
       "      <td>100.000000</td>\n",
       "      <td>100.000000</td>\n",
       "    </tr>\n",
       "    <tr>\n",
       "      <th>mean</th>\n",
       "      <td>234.570595</td>\n",
       "      <td>180.114728</td>\n",
       "      <td>162.721572</td>\n",
       "      <td>243.903640</td>\n",
       "    </tr>\n",
       "    <tr>\n",
       "      <th>std</th>\n",
       "      <td>26.187162</td>\n",
       "      <td>5.392988</td>\n",
       "      <td>3.405024</td>\n",
       "      <td>33.417747</td>\n",
       "    </tr>\n",
       "    <tr>\n",
       "      <th>min</th>\n",
       "      <td>168.447264</td>\n",
       "      <td>167.868153</td>\n",
       "      <td>156.747966</td>\n",
       "      <td>168.512337</td>\n",
       "    </tr>\n",
       "    <tr>\n",
       "      <th>25%</th>\n",
       "      <td>217.235151</td>\n",
       "      <td>177.492471</td>\n",
       "      <td>160.172438</td>\n",
       "      <td>220.268847</td>\n",
       "    </tr>\n",
       "    <tr>\n",
       "      <th>50%</th>\n",
       "      <td>232.027740</td>\n",
       "      <td>179.792761</td>\n",
       "      <td>161.740890</td>\n",
       "      <td>245.126594</td>\n",
       "    </tr>\n",
       "    <tr>\n",
       "      <th>75%</th>\n",
       "      <td>256.631983</td>\n",
       "      <td>182.239815</td>\n",
       "      <td>165.602587</td>\n",
       "      <td>267.439497</td>\n",
       "    </tr>\n",
       "    <tr>\n",
       "      <th>max</th>\n",
       "      <td>277.847267</td>\n",
       "      <td>208.076074</td>\n",
       "      <td>170.286275</td>\n",
       "      <td>305.249972</td>\n",
       "    </tr>\n",
       "  </tbody>\n",
       "</table>\n",
       "</div>"
      ],
      "text/plain": [
       "              FAB         CSB       CSFAB        PSOB\n",
       "count  100.000000  100.000000  100.000000  100.000000\n",
       "mean   234.570595  180.114728  162.721572  243.903640\n",
       "std     26.187162    5.392988    3.405024   33.417747\n",
       "min    168.447264  167.868153  156.747966  168.512337\n",
       "25%    217.235151  177.492471  160.172438  220.268847\n",
       "50%    232.027740  179.792761  161.740890  245.126594\n",
       "75%    256.631983  182.239815  165.602587  267.439497\n",
       "max    277.847267  208.076074  170.286275  305.249972"
      ]
     },
     "execution_count": 4,
     "metadata": {},
     "output_type": "execute_result"
    }
   ],
   "source": [
    "yc_msr_df = pd.read_csv('./YC/msr.csv', index_col=0).drop(labels='QPSOB', axis=1)\n",
    "yc_msr_df.describe()"
   ]
  },
  {
   "cell_type": "code",
   "execution_count": 5,
   "metadata": {},
   "outputs": [
    {
     "data": {
      "text/html": [
       "<div>\n",
       "<style scoped>\n",
       "    .dataframe tbody tr th:only-of-type {\n",
       "        vertical-align: middle;\n",
       "    }\n",
       "\n",
       "    .dataframe tbody tr th {\n",
       "        vertical-align: top;\n",
       "    }\n",
       "\n",
       "    .dataframe thead th {\n",
       "        text-align: right;\n",
       "    }\n",
       "</style>\n",
       "<table border=\"1\" class=\"dataframe\">\n",
       "  <thead>\n",
       "    <tr style=\"text-align: right;\">\n",
       "      <th></th>\n",
       "      <th>FAB</th>\n",
       "      <th>CSB</th>\n",
       "      <th>CSFAB</th>\n",
       "      <th>PSOB</th>\n",
       "    </tr>\n",
       "  </thead>\n",
       "  <tbody>\n",
       "    <tr>\n",
       "      <th>count</th>\n",
       "      <td>100.000000</td>\n",
       "      <td>100.000000</td>\n",
       "      <td>100.000000</td>\n",
       "      <td>100.000000</td>\n",
       "    </tr>\n",
       "    <tr>\n",
       "      <th>mean</th>\n",
       "      <td>217.938364</td>\n",
       "      <td>219.788071</td>\n",
       "      <td>215.039378</td>\n",
       "      <td>219.733749</td>\n",
       "    </tr>\n",
       "    <tr>\n",
       "      <th>std</th>\n",
       "      <td>1.748701</td>\n",
       "      <td>2.512187</td>\n",
       "      <td>1.517524</td>\n",
       "      <td>2.210179</td>\n",
       "    </tr>\n",
       "    <tr>\n",
       "      <th>min</th>\n",
       "      <td>212.944476</td>\n",
       "      <td>214.520095</td>\n",
       "      <td>212.147607</td>\n",
       "      <td>214.462656</td>\n",
       "    </tr>\n",
       "    <tr>\n",
       "      <th>25%</th>\n",
       "      <td>216.886173</td>\n",
       "      <td>218.127425</td>\n",
       "      <td>213.892216</td>\n",
       "      <td>217.767293</td>\n",
       "    </tr>\n",
       "    <tr>\n",
       "      <th>50%</th>\n",
       "      <td>218.037347</td>\n",
       "      <td>219.448585</td>\n",
       "      <td>214.824296</td>\n",
       "      <td>219.747122</td>\n",
       "    </tr>\n",
       "    <tr>\n",
       "      <th>75%</th>\n",
       "      <td>219.229234</td>\n",
       "      <td>220.734279</td>\n",
       "      <td>216.084394</td>\n",
       "      <td>221.878137</td>\n",
       "    </tr>\n",
       "    <tr>\n",
       "      <th>max</th>\n",
       "      <td>221.602235</td>\n",
       "      <td>225.609203</td>\n",
       "      <td>218.467296</td>\n",
       "      <td>223.998834</td>\n",
       "    </tr>\n",
       "  </tbody>\n",
       "</table>\n",
       "</div>"
      ],
      "text/plain": [
       "              FAB         CSB       CSFAB        PSOB\n",
       "count  100.000000  100.000000  100.000000  100.000000\n",
       "mean   217.938364  219.788071  215.039378  219.733749\n",
       "std      1.748701    2.512187    1.517524    2.210179\n",
       "min    212.944476  214.520095  212.147607  214.462656\n",
       "25%    216.886173  218.127425  213.892216  217.767293\n",
       "50%    218.037347  219.448585  214.824296  219.747122\n",
       "75%    219.229234  220.734279  216.084394  221.878137\n",
       "max    221.602235  225.609203  218.467296  223.998834"
      ]
     },
     "execution_count": 5,
     "metadata": {},
     "output_type": "execute_result"
    }
   ],
   "source": [
    "pbc_msr_df = pd.read_csv('./PBC/msr.csv', index_col=0).drop(labels='QPSOB', axis=1)\n",
    "pbc_msr_df.describe()"
   ]
  },
  {
   "cell_type": "code",
   "execution_count": 6,
   "metadata": {},
   "outputs": [
    {
     "data": {
      "text/html": [
       "<div>\n",
       "<style scoped>\n",
       "    .dataframe tbody tr th:only-of-type {\n",
       "        vertical-align: middle;\n",
       "    }\n",
       "\n",
       "    .dataframe tbody tr th {\n",
       "        vertical-align: top;\n",
       "    }\n",
       "\n",
       "    .dataframe thead th {\n",
       "        text-align: right;\n",
       "    }\n",
       "</style>\n",
       "<table border=\"1\" class=\"dataframe\">\n",
       "  <thead>\n",
       "    <tr style=\"text-align: right;\">\n",
       "      <th></th>\n",
       "      <th>FAB</th>\n",
       "      <th>CSB</th>\n",
       "      <th>CSFAB</th>\n",
       "      <th>PSOB</th>\n",
       "    </tr>\n",
       "  </thead>\n",
       "  <tbody>\n",
       "    <tr>\n",
       "      <th>count</th>\n",
       "      <td>100.000000</td>\n",
       "      <td>100.000000</td>\n",
       "      <td>100.000000</td>\n",
       "      <td>100.000000</td>\n",
       "    </tr>\n",
       "    <tr>\n",
       "      <th>mean</th>\n",
       "      <td>168.950007</td>\n",
       "      <td>199.736674</td>\n",
       "      <td>150.070343</td>\n",
       "      <td>192.640136</td>\n",
       "    </tr>\n",
       "    <tr>\n",
       "      <th>std</th>\n",
       "      <td>7.065039</td>\n",
       "      <td>13.043372</td>\n",
       "      <td>4.048259</td>\n",
       "      <td>13.448436</td>\n",
       "    </tr>\n",
       "    <tr>\n",
       "      <th>min</th>\n",
       "      <td>150.881772</td>\n",
       "      <td>171.158077</td>\n",
       "      <td>142.771795</td>\n",
       "      <td>164.470489</td>\n",
       "    </tr>\n",
       "    <tr>\n",
       "      <th>25%</th>\n",
       "      <td>163.756929</td>\n",
       "      <td>190.858500</td>\n",
       "      <td>147.278951</td>\n",
       "      <td>181.976881</td>\n",
       "    </tr>\n",
       "    <tr>\n",
       "      <th>50%</th>\n",
       "      <td>168.263441</td>\n",
       "      <td>198.941809</td>\n",
       "      <td>149.780957</td>\n",
       "      <td>192.991587</td>\n",
       "    </tr>\n",
       "    <tr>\n",
       "      <th>75%</th>\n",
       "      <td>173.776673</td>\n",
       "      <td>207.513163</td>\n",
       "      <td>152.229808</td>\n",
       "      <td>201.074401</td>\n",
       "    </tr>\n",
       "    <tr>\n",
       "      <th>max</th>\n",
       "      <td>184.599609</td>\n",
       "      <td>248.081762</td>\n",
       "      <td>161.926779</td>\n",
       "      <td>226.881539</td>\n",
       "    </tr>\n",
       "  </tbody>\n",
       "</table>\n",
       "</div>"
      ],
      "text/plain": [
       "              FAB         CSB       CSFAB        PSOB\n",
       "count  100.000000  100.000000  100.000000  100.000000\n",
       "mean   168.950007  199.736674  150.070343  192.640136\n",
       "std      7.065039   13.043372    4.048259   13.448436\n",
       "min    150.881772  171.158077  142.771795  164.470489\n",
       "25%    163.756929  190.858500  147.278951  181.976881\n",
       "50%    168.263441  198.941809  149.780957  192.991587\n",
       "75%    173.776673  207.513163  152.229808  201.074401\n",
       "max    184.599609  248.081762  161.926779  226.881539"
      ]
     },
     "execution_count": 6,
     "metadata": {},
     "output_type": "execute_result"
    }
   ],
   "source": [
    "rat_msr_df = pd.read_csv('./RAT/msr.csv', index_col=0).drop(labels='QPSOB', axis=1)\n",
    "rat_msr_df.describe()"
   ]
  },
  {
   "cell_type": "code",
   "execution_count": 7,
   "metadata": {},
   "outputs": [
    {
     "data": {
      "text/plain": [
       "Text(0.5, 0, '')"
      ]
     },
     "execution_count": 7,
     "metadata": {},
     "output_type": "execute_result"
    },
    {
     "data": {
      "image/png": "[encoded data removed]",
      "text/plain": [
       "<Figure size 432x288 with 1 Axes>"
      ]
     },
     "metadata": {},
     "output_type": "display_data"
    }
   ],
   "source": [
    "ax = sns.boxplot(x=\"variable\", y=\"value\", data=pd.melt(bcll_msr_df))\n",
    "ax.set_ylabel('')    \n",
    "ax.set_xlabel('')"
   ]
  },
  {
   "cell_type": "code",
   "execution_count": 8,
   "metadata": {},
   "outputs": [
    {
     "data": {
      "text/plain": [
       "Text(0.5, 0, '')"
      ]
     },
     "execution_count": 8,
     "metadata": {},
     "output_type": "execute_result"
    },
    {
     "data": {
      "image/png": "[encoded data removed]",
      "text/plain": [
       "<Figure size 432x288 with 1 Axes>"
      ]
     },
     "metadata": {},
     "output_type": "display_data"
    }
   ],
   "source": [
    "ax = sns.boxplot(x=\"variable\", y=\"value\", data=pd.melt(yc_msr_df))\n",
    "ax.set_ylabel('')    \n",
    "ax.set_xlabel('')"
   ]
  },
  {
   "cell_type": "code",
   "execution_count": 9,
   "metadata": {},
   "outputs": [
    {
     "data": {
      "text/plain": [
       "Text(0.5, 0, '')"
      ]
     },
     "execution_count": 9,
     "metadata": {},
     "output_type": "execute_result"
    },
    {
     "data": {
      "image/png": "[encoded data removed]",
      "text/plain": [
       "<Figure size 432x288 with 1 Axes>"
      ]
     },
     "metadata": {},
     "output_type": "display_data"
    }
   ],
   "source": [
    "ax = sns.boxplot(x=\"variable\", y=\"value\", data=pd.melt(pbc_msr_df))\n",
    "ax.set_ylabel('')    \n",
    "ax.set_xlabel('')"
   ]
  },
  {
   "cell_type": "code",
   "execution_count": 10,
   "metadata": {},
   "outputs": [
    {
     "data": {
      "text/plain": [
       "Text(0.5, 0, '')"
      ]
     },
     "execution_count": 10,
     "metadata": {},
     "output_type": "execute_result"
    },
    {
     "data": {
      "image/png": "[encoded data removed]",
      "text/plain": [
       "<Figure size 432x288 with 1 Axes>"
      ]
     },
     "metadata": {},
     "output_type": "display_data"
    }
   ],
   "source": [
    "ax = sns.boxplot(x=\"variable\", y=\"value\", data=pd.melt(rat_msr_df))\n",
    "ax.set_ylabel('')    \n",
    "ax.set_xlabel('')"
   ]
  },
  {
   "cell_type": "code",
   "execution_count": null,
   "metadata": {},
   "outputs": [],
   "source": []
  }
 ],
 "metadata": {
  "kernelspec": {
   "display_name": "Python 3",
   "language": "python",
   "name": "python3"
  },
  "language_info": {
   "codemirror_mode": {
    "name": "ipython",
    "version": 3
   },
   "file_extension": ".py",
   "mimetype": "text/x-python",
   "name": "python",
   "nbconvert_exporter": "python",
   "pygments_lexer": "ipython3",
   "version": "3.7.5"
  }
 },
 "nbformat": 4,
 "nbformat_minor": 2
}
