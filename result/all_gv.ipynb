{
 "cells": [
  {
   "cell_type": "code",
   "execution_count": 1,
   "metadata": {},
   "outputs": [
    {
     "name": "stderr",
     "output_type": "stream",
     "text": [
      "/opt/anaconda3/envs/R/lib/python3.7/site-packages/statsmodels/tools/_testing.py:19: FutureWarning: pandas.util.testing is deprecated. Use the functions in the public API at pandas.testing instead.\n",
      "  import pandas.util.testing as tm\n"
     ]
    }
   ],
   "source": [
    "import pandas as pd\n",
    "import numpy as np\n",
    "import matplotlib.pyplot as plt\n",
    "import seaborn as sns\n",
    "from glob import glob\n",
    "import os\n",
    "%matplotlib inline"
   ]
  },
  {
   "cell_type": "code",
   "execution_count": 2,
   "metadata": {},
   "outputs": [],
   "source": [
    "sns.set_style(\"whitegrid\")"
   ]
  },
  {
   "cell_type": "code",
   "execution_count": 3,
   "metadata": {},
   "outputs": [
    {
     "data": {
      "text/html": [
       "<div>\n",
       "<style scoped>\n",
       "    .dataframe tbody tr th:only-of-type {\n",
       "        vertical-align: middle;\n",
       "    }\n",
       "\n",
       "    .dataframe tbody tr th {\n",
       "        vertical-align: top;\n",
       "    }\n",
       "\n",
       "    .dataframe thead th {\n",
       "        text-align: right;\n",
       "    }\n",
       "</style>\n",
       "<table border=\"1\" class=\"dataframe\">\n",
       "  <thead>\n",
       "    <tr style=\"text-align: right;\">\n",
       "      <th></th>\n",
       "      <th>FAB</th>\n",
       "      <th>CSB</th>\n",
       "      <th>CSFAB</th>\n",
       "      <th>PSOB</th>\n",
       "    </tr>\n",
       "  </thead>\n",
       "  <tbody>\n",
       "    <tr>\n",
       "      <th>count</th>\n",
       "      <td>100.000000</td>\n",
       "      <td>100.000000</td>\n",
       "      <td>100.000000</td>\n",
       "      <td>100.000000</td>\n",
       "    </tr>\n",
       "    <tr>\n",
       "      <th>mean</th>\n",
       "      <td>6053.570000</td>\n",
       "      <td>6075.060000</td>\n",
       "      <td>5992.930000</td>\n",
       "      <td>6093.410000</td>\n",
       "    </tr>\n",
       "    <tr>\n",
       "      <th>std</th>\n",
       "      <td>58.173765</td>\n",
       "      <td>50.189705</td>\n",
       "      <td>61.839848</td>\n",
       "      <td>49.899919</td>\n",
       "    </tr>\n",
       "    <tr>\n",
       "      <th>min</th>\n",
       "      <td>5924.000000</td>\n",
       "      <td>5963.000000</td>\n",
       "      <td>5890.000000</td>\n",
       "      <td>5956.000000</td>\n",
       "    </tr>\n",
       "    <tr>\n",
       "      <th>25%</th>\n",
       "      <td>6014.500000</td>\n",
       "      <td>6038.250000</td>\n",
       "      <td>5947.500000</td>\n",
       "      <td>6061.000000</td>\n",
       "    </tr>\n",
       "    <tr>\n",
       "      <th>50%</th>\n",
       "      <td>6060.000000</td>\n",
       "      <td>6074.000000</td>\n",
       "      <td>5980.000000</td>\n",
       "      <td>6095.000000</td>\n",
       "    </tr>\n",
       "    <tr>\n",
       "      <th>75%</th>\n",
       "      <td>6085.000000</td>\n",
       "      <td>6113.000000</td>\n",
       "      <td>6037.500000</td>\n",
       "      <td>6131.250000</td>\n",
       "    </tr>\n",
       "    <tr>\n",
       "      <th>max</th>\n",
       "      <td>6192.000000</td>\n",
       "      <td>6184.000000</td>\n",
       "      <td>6147.000000</td>\n",
       "      <td>6203.000000</td>\n",
       "    </tr>\n",
       "  </tbody>\n",
       "</table>\n",
       "</div>"
      ],
      "text/plain": [
       "               FAB          CSB        CSFAB         PSOB\n",
       "count   100.000000   100.000000   100.000000   100.000000\n",
       "mean   6053.570000  6075.060000  5992.930000  6093.410000\n",
       "std      58.173765    50.189705    61.839848    49.899919\n",
       "min    5924.000000  5963.000000  5890.000000  5956.000000\n",
       "25%    6014.500000  6038.250000  5947.500000  6061.000000\n",
       "50%    6060.000000  6074.000000  5980.000000  6095.000000\n",
       "75%    6085.000000  6113.000000  6037.500000  6131.250000\n",
       "max    6192.000000  6184.000000  6147.000000  6203.000000"
      ]
     },
     "execution_count": 3,
     "metadata": {},
     "output_type": "execute_result"
    }
   ],
   "source": [
    "bcll_gv_df = pd.read_csv('./BCLL/gv.csv', index_col=0).drop(labels='QPSOB', axis=1)\n",
    "bcll_gv_df.describe()"
   ]
  },
  {
   "cell_type": "code",
   "execution_count": 4,
   "metadata": {},
   "outputs": [
    {
     "data": {
      "text/html": [
       "<div>\n",
       "<style scoped>\n",
       "    .dataframe tbody tr th:only-of-type {\n",
       "        vertical-align: middle;\n",
       "    }\n",
       "\n",
       "    .dataframe tbody tr th {\n",
       "        vertical-align: top;\n",
       "    }\n",
       "\n",
       "    .dataframe thead th {\n",
       "        text-align: right;\n",
       "    }\n",
       "</style>\n",
       "<table border=\"1\" class=\"dataframe\">\n",
       "  <thead>\n",
       "    <tr style=\"text-align: right;\">\n",
       "      <th></th>\n",
       "      <th>FAB</th>\n",
       "      <th>CSB</th>\n",
       "      <th>CSFAB</th>\n",
       "      <th>PSOB</th>\n",
       "    </tr>\n",
       "  </thead>\n",
       "  <tbody>\n",
       "    <tr>\n",
       "      <th>count</th>\n",
       "      <td>100.000000</td>\n",
       "      <td>100.00000</td>\n",
       "      <td>100.000000</td>\n",
       "      <td>100.000000</td>\n",
       "    </tr>\n",
       "    <tr>\n",
       "      <th>mean</th>\n",
       "      <td>3034.140000</td>\n",
       "      <td>2974.42000</td>\n",
       "      <td>3093.020000</td>\n",
       "      <td>3030.740000</td>\n",
       "    </tr>\n",
       "    <tr>\n",
       "      <th>std</th>\n",
       "      <td>40.788447</td>\n",
       "      <td>41.57971</td>\n",
       "      <td>37.566905</td>\n",
       "      <td>41.147338</td>\n",
       "    </tr>\n",
       "    <tr>\n",
       "      <th>min</th>\n",
       "      <td>2959.000000</td>\n",
       "      <td>2881.00000</td>\n",
       "      <td>3010.000000</td>\n",
       "      <td>2919.000000</td>\n",
       "    </tr>\n",
       "    <tr>\n",
       "      <th>25%</th>\n",
       "      <td>3005.750000</td>\n",
       "      <td>2948.75000</td>\n",
       "      <td>3066.750000</td>\n",
       "      <td>3000.250000</td>\n",
       "    </tr>\n",
       "    <tr>\n",
       "      <th>50%</th>\n",
       "      <td>3030.000000</td>\n",
       "      <td>2974.00000</td>\n",
       "      <td>3093.500000</td>\n",
       "      <td>3028.500000</td>\n",
       "    </tr>\n",
       "    <tr>\n",
       "      <th>75%</th>\n",
       "      <td>3064.000000</td>\n",
       "      <td>3004.00000</td>\n",
       "      <td>3114.000000</td>\n",
       "      <td>3056.750000</td>\n",
       "    </tr>\n",
       "    <tr>\n",
       "      <th>max</th>\n",
       "      <td>3119.000000</td>\n",
       "      <td>3093.00000</td>\n",
       "      <td>3183.000000</td>\n",
       "      <td>3145.000000</td>\n",
       "    </tr>\n",
       "  </tbody>\n",
       "</table>\n",
       "</div>"
      ],
      "text/plain": [
       "               FAB         CSB        CSFAB         PSOB\n",
       "count   100.000000   100.00000   100.000000   100.000000\n",
       "mean   3034.140000  2974.42000  3093.020000  3030.740000\n",
       "std      40.788447    41.57971    37.566905    41.147338\n",
       "min    2959.000000  2881.00000  3010.000000  2919.000000\n",
       "25%    3005.750000  2948.75000  3066.750000  3000.250000\n",
       "50%    3030.000000  2974.00000  3093.500000  3028.500000\n",
       "75%    3064.000000  3004.00000  3114.000000  3056.750000\n",
       "max    3119.000000  3093.00000  3183.000000  3145.000000"
      ]
     },
     "execution_count": 4,
     "metadata": {},
     "output_type": "execute_result"
    }
   ],
   "source": [
    "yc_gv_df = pd.read_csv('./YC/gv.csv', index_col=0).drop(labels='QPSOB', axis=1)\n",
    "yc_gv_df.describe()"
   ]
  },
  {
   "cell_type": "code",
   "execution_count": 5,
   "metadata": {},
   "outputs": [
    {
     "data": {
      "text/html": [
       "<div>\n",
       "<style scoped>\n",
       "    .dataframe tbody tr th:only-of-type {\n",
       "        vertical-align: middle;\n",
       "    }\n",
       "\n",
       "    .dataframe tbody tr th {\n",
       "        vertical-align: top;\n",
       "    }\n",
       "\n",
       "    .dataframe thead th {\n",
       "        text-align: right;\n",
       "    }\n",
       "</style>\n",
       "<table border=\"1\" class=\"dataframe\">\n",
       "  <thead>\n",
       "    <tr style=\"text-align: right;\">\n",
       "      <th></th>\n",
       "      <th>FAB</th>\n",
       "      <th>CSB</th>\n",
       "      <th>CSFAB</th>\n",
       "      <th>PSOB</th>\n",
       "    </tr>\n",
       "  </thead>\n",
       "  <tbody>\n",
       "    <tr>\n",
       "      <th>count</th>\n",
       "      <td>100.00000</td>\n",
       "      <td>100.000000</td>\n",
       "      <td>100.000000</td>\n",
       "      <td>100.00000</td>\n",
       "    </tr>\n",
       "    <tr>\n",
       "      <th>mean</th>\n",
       "      <td>11268.66000</td>\n",
       "      <td>10781.590000</td>\n",
       "      <td>11539.040000</td>\n",
       "      <td>11052.69000</td>\n",
       "    </tr>\n",
       "    <tr>\n",
       "      <th>std</th>\n",
       "      <td>61.56252</td>\n",
       "      <td>80.676445</td>\n",
       "      <td>82.866684</td>\n",
       "      <td>78.39961</td>\n",
       "    </tr>\n",
       "    <tr>\n",
       "      <th>min</th>\n",
       "      <td>11146.00000</td>\n",
       "      <td>10614.000000</td>\n",
       "      <td>11356.000000</td>\n",
       "      <td>10896.00000</td>\n",
       "    </tr>\n",
       "    <tr>\n",
       "      <th>25%</th>\n",
       "      <td>11224.75000</td>\n",
       "      <td>10737.500000</td>\n",
       "      <td>11483.000000</td>\n",
       "      <td>11014.50000</td>\n",
       "    </tr>\n",
       "    <tr>\n",
       "      <th>50%</th>\n",
       "      <td>11268.00000</td>\n",
       "      <td>10772.000000</td>\n",
       "      <td>11555.000000</td>\n",
       "      <td>11054.50000</td>\n",
       "    </tr>\n",
       "    <tr>\n",
       "      <th>75%</th>\n",
       "      <td>11326.00000</td>\n",
       "      <td>10852.000000</td>\n",
       "      <td>11602.250000</td>\n",
       "      <td>11116.50000</td>\n",
       "    </tr>\n",
       "    <tr>\n",
       "      <th>max</th>\n",
       "      <td>11407.00000</td>\n",
       "      <td>10898.000000</td>\n",
       "      <td>11727.000000</td>\n",
       "      <td>11202.00000</td>\n",
       "    </tr>\n",
       "  </tbody>\n",
       "</table>\n",
       "</div>"
      ],
      "text/plain": [
       "               FAB           CSB         CSFAB         PSOB\n",
       "count    100.00000    100.000000    100.000000    100.00000\n",
       "mean   11268.66000  10781.590000  11539.040000  11052.69000\n",
       "std       61.56252     80.676445     82.866684     78.39961\n",
       "min    11146.00000  10614.000000  11356.000000  10896.00000\n",
       "25%    11224.75000  10737.500000  11483.000000  11014.50000\n",
       "50%    11268.00000  10772.000000  11555.000000  11054.50000\n",
       "75%    11326.00000  10852.000000  11602.250000  11116.50000\n",
       "max    11407.00000  10898.000000  11727.000000  11202.00000"
      ]
     },
     "execution_count": 5,
     "metadata": {},
     "output_type": "execute_result"
    }
   ],
   "source": [
    "pbc_gv_df = pd.read_csv('./PBC/gv.csv', index_col=0).drop(labels='QPSOB', axis=1)\n",
    "pbc_gv_df.describe()"
   ]
  },
  {
   "cell_type": "code",
   "execution_count": 6,
   "metadata": {},
   "outputs": [
    {
     "data": {
      "text/html": [
       "<div>\n",
       "<style scoped>\n",
       "    .dataframe tbody tr th:only-of-type {\n",
       "        vertical-align: middle;\n",
       "    }\n",
       "\n",
       "    .dataframe tbody tr th {\n",
       "        vertical-align: top;\n",
       "    }\n",
       "\n",
       "    .dataframe thead th {\n",
       "        text-align: right;\n",
       "    }\n",
       "</style>\n",
       "<table border=\"1\" class=\"dataframe\">\n",
       "  <thead>\n",
       "    <tr style=\"text-align: right;\">\n",
       "      <th></th>\n",
       "      <th>FAB</th>\n",
       "      <th>CSB</th>\n",
       "      <th>CSFAB</th>\n",
       "      <th>PSOB</th>\n",
       "    </tr>\n",
       "  </thead>\n",
       "  <tbody>\n",
       "    <tr>\n",
       "      <th>count</th>\n",
       "      <td>100.00000</td>\n",
       "      <td>100.000000</td>\n",
       "      <td>100.000000</td>\n",
       "      <td>100.000000</td>\n",
       "    </tr>\n",
       "    <tr>\n",
       "      <th>mean</th>\n",
       "      <td>4126.25000</td>\n",
       "      <td>3929.930000</td>\n",
       "      <td>4193.040000</td>\n",
       "      <td>4094.830000</td>\n",
       "    </tr>\n",
       "    <tr>\n",
       "      <th>std</th>\n",
       "      <td>39.74626</td>\n",
       "      <td>47.220577</td>\n",
       "      <td>48.385431</td>\n",
       "      <td>43.777226</td>\n",
       "    </tr>\n",
       "    <tr>\n",
       "      <th>min</th>\n",
       "      <td>4037.00000</td>\n",
       "      <td>3808.000000</td>\n",
       "      <td>4024.000000</td>\n",
       "      <td>3988.000000</td>\n",
       "    </tr>\n",
       "    <tr>\n",
       "      <th>25%</th>\n",
       "      <td>4098.25000</td>\n",
       "      <td>3898.750000</td>\n",
       "      <td>4167.750000</td>\n",
       "      <td>4063.500000</td>\n",
       "    </tr>\n",
       "    <tr>\n",
       "      <th>50%</th>\n",
       "      <td>4123.00000</td>\n",
       "      <td>3928.000000</td>\n",
       "      <td>4201.500000</td>\n",
       "      <td>4096.500000</td>\n",
       "    </tr>\n",
       "    <tr>\n",
       "      <th>75%</th>\n",
       "      <td>4152.25000</td>\n",
       "      <td>3959.000000</td>\n",
       "      <td>4228.000000</td>\n",
       "      <td>4122.250000</td>\n",
       "    </tr>\n",
       "    <tr>\n",
       "      <th>max</th>\n",
       "      <td>4212.00000</td>\n",
       "      <td>4069.000000</td>\n",
       "      <td>4288.000000</td>\n",
       "      <td>4197.000000</td>\n",
       "    </tr>\n",
       "  </tbody>\n",
       "</table>\n",
       "</div>"
      ],
      "text/plain": [
       "              FAB          CSB        CSFAB         PSOB\n",
       "count   100.00000   100.000000   100.000000   100.000000\n",
       "mean   4126.25000  3929.930000  4193.040000  4094.830000\n",
       "std      39.74626    47.220577    48.385431    43.777226\n",
       "min    4037.00000  3808.000000  4024.000000  3988.000000\n",
       "25%    4098.25000  3898.750000  4167.750000  4063.500000\n",
       "50%    4123.00000  3928.000000  4201.500000  4096.500000\n",
       "75%    4152.25000  3959.000000  4228.000000  4122.250000\n",
       "max    4212.00000  4069.000000  4288.000000  4197.000000"
      ]
     },
     "execution_count": 6,
     "metadata": {},
     "output_type": "execute_result"
    }
   ],
   "source": [
    "rat_gv_df = pd.read_csv('./RAT/gv.csv', index_col=0).drop(labels='QPSOB', axis=1)\n",
    "rat_gv_df.describe()"
   ]
  },
  {
   "cell_type": "code",
   "execution_count": 7,
   "metadata": {},
   "outputs": [
    {
     "data": {
      "text/plain": [
       "Text(0.5, 0, '')"
      ]
     },
     "execution_count": 7,
     "metadata": {},
     "output_type": "execute_result"
    },
    {
     "data": {
      "image/png": "[encoded data removed]",
      "text/plain": [
       "<Figure size 432x288 with 1 Axes>"
      ]
     },
     "metadata": {},
     "output_type": "display_data"
    }
   ],
   "source": [
    "ax = sns.boxplot(x=\"variable\", y=\"value\", data=pd.melt(bcll_gv_df))\n",
    "ax.set_ylabel('')    \n",
    "ax.set_xlabel('')"
   ]
  },
  {
   "cell_type": "code",
   "execution_count": 8,
   "metadata": {},
   "outputs": [
    {
     "data": {
      "text/plain": [
       "Text(0.5, 0, '')"
      ]
     },
     "execution_count": 8,
     "metadata": {},
     "output_type": "execute_result"
    },
    {
     "data": {
      "image/png": "[encoded data removed]",
      "text/plain": [
       "<Figure size 432x288 with 1 Axes>"
      ]
     },
     "metadata": {},
     "output_type": "display_data"
    }
   ],
   "source": [
    "ax = sns.boxplot(x=\"variable\", y=\"value\", data=pd.melt(yc_gv_df))\n",
    "ax.set_ylabel('')    \n",
    "ax.set_xlabel('')"
   ]
  },
  {
   "cell_type": "code",
   "execution_count": 9,
   "metadata": {},
   "outputs": [
    {
     "data": {
      "text/plain": [
       "Text(0.5, 0, '')"
      ]
     },
     "execution_count": 9,
     "metadata": {},
     "output_type": "execute_result"
    },
    {
     "data": {
      "image/png": "[encoded data removed]",
      "text/plain": [
       "<Figure size 432x288 with 1 Axes>"
      ]
     },
     "metadata": {},
     "output_type": "display_data"
    }
   ],
   "source": [
    "ax = sns.boxplot(x=\"variable\", y=\"value\", data=pd.melt(pbc_gv_df))\n",
    "ax.set_ylabel('')    \n",
    "ax.set_xlabel('')"
   ]
  },
  {
   "cell_type": "code",
   "execution_count": 10,
   "metadata": {},
   "outputs": [
    {
     "data": {
      "text/plain": [
       "Text(0.5, 0, '')"
      ]
     },
     "execution_count": 10,
     "metadata": {},
     "output_type": "execute_result"
    },
    {
     "data": {
      "image/png": "[encoded data removed]",
      "text/plain": [
       "<Figure size 432x288 with 1 Axes>"
      ]
     },
     "metadata": {},
     "output_type": "display_data"
    }
   ],
   "source": [
    "ax = sns.boxplot(x=\"variable\", y=\"value\", data=pd.melt(rat_gv_df))\n",
    "ax.set_ylabel('')    \n",
    "ax.set_xlabel('')"
   ]
  },
  {
   "cell_type": "code",
   "execution_count": null,
   "metadata": {},
   "outputs": [],
   "source": []
  }
 ],
 "metadata": {
  "kernelspec": {
   "display_name": "Python 3",
   "language": "python",
   "name": "python3"
  },
  "language_info": {
   "codemirror_mode": {
    "name": "ipython",
    "version": 3
   },
   "file_extension": ".py",
   "mimetype": "text/x-python",
   "name": "python",
   "nbconvert_exporter": "python",
   "pygments_lexer": "ipython3",
   "version": "3.7.5"
  }
 },
 "nbformat": 4,
 "nbformat_minor": 2
}
