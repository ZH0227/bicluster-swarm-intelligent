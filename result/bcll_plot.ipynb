{
 "cells": [
  {
   "cell_type": "code",
   "execution_count": 1,
   "metadata": {
    "scrolled": true
   },
   "outputs": [
    {
     "name": "stderr",
     "output_type": "stream",
     "text": [
      "/opt/anaconda3/envs/R/lib/python3.7/site-packages/statsmodels/tools/_testing.py:19: FutureWarning: pandas.util.testing is deprecated. Use the functions in the public API at pandas.testing instead.\n",
      "  import pandas.util.testing as tm\n"
     ]
    }
   ],
   "source": [
    "import pandas as pd\n",
    "import numpy as np\n",
    "import matplotlib.pyplot as plt\n",
    "import seaborn as sns\n",
    "from glob import glob\n",
    "import os\n",
    "%matplotlib inline"
   ]
  },
  {
   "cell_type": "code",
   "execution_count": 2,
   "metadata": {},
   "outputs": [],
   "source": [
    "sns.set_style(\"whitegrid\")"
   ]
  },
  {
   "cell_type": "code",
   "execution_count": 3,
   "metadata": {},
   "outputs": [
    {
     "name": "stdout",
     "output_type": "stream",
     "text": [
      "FAB      0.019341\n",
      "CSB      0.008542\n",
      "CSFAB    0.030723\n",
      "PSOB     0.016535\n",
      "QPSOB    0.005768\n",
      "dtype: float64\n",
      "FAB      0.003485\n",
      "CSB      0.003365\n",
      "CSFAB    0.003269\n",
      "PSOB     0.003172\n",
      "QPSOB    0.004975\n",
      "dtype: float64\n"
     ]
    }
   ],
   "source": [
    "all_ri_df = pd.read_csv('./BCLL/ri.csv', index_col=0)\n",
    "print(np.mean(all_ri_df, 0))\n",
    "print(np.std(all_ri_df, 0))"
   ]
  },
  {
   "cell_type": "code",
   "execution_count": 4,
   "metadata": {},
   "outputs": [
    {
     "data": {
      "text/plain": [
       "<matplotlib.axes._subplots.AxesSubplot at 0x7f13a9a00b50>"
      ]
     },
     "execution_count": 4,
     "metadata": {},
     "output_type": "execute_result"
    },
    {
     "data": {
      "image/png": "[encoded data removed]",
      "text/plain": [
       "<Figure size 432x288 with 1 Axes>"
      ]
     },
     "metadata": {},
     "output_type": "display_data"
    }
   ],
   "source": [
    "all_ri_df.plot.box()"
   ]
  },
  {
   "cell_type": "code",
   "execution_count": 5,
   "metadata": {},
   "outputs": [
    {
     "name": "stdout",
     "output_type": "stream",
     "text": [
      "FAB      0.994445\n",
      "CSB      0.995121\n",
      "CSFAB    0.994086\n",
      "PSOB     0.994268\n",
      "QPSOB    0.995519\n",
      "dtype: float64\n",
      "FAB      0.001129\n",
      "CSB      0.000911\n",
      "CSFAB    0.000699\n",
      "PSOB     0.001984\n",
      "QPSOB    0.001214\n",
      "dtype: float64\n"
     ]
    }
   ],
   "source": [
    "all_hv_df = pd.read_csv('./BCLL/hv.csv', index_col=0)\n",
    "print(np.mean(all_hv_df, 0))\n",
    "print(np.std(all_hv_df, 0))"
   ]
  },
  {
   "cell_type": "code",
   "execution_count": 6,
   "metadata": {},
   "outputs": [
    {
     "data": {
      "text/plain": [
       "<matplotlib.axes._subplots.AxesSubplot at 0x7f13a967e0d0>"
      ]
     },
     "execution_count": 6,
     "metadata": {},
     "output_type": "execute_result"
    },
    {
     "data": {
      "image/png": "[encoded data removed]",
      "text/plain": [
       "<Figure size 432x288 with 1 Axes>"
      ]
     },
     "metadata": {},
     "output_type": "display_data"
    }
   ],
   "source": [
    "all_hv_df.plot.box()"
   ]
  },
  {
   "cell_type": "code",
   "execution_count": 7,
   "metadata": {},
   "outputs": [
    {
     "name": "stdout",
     "output_type": "stream",
     "text": [
      "FAB      8.03\n",
      "CSB      7.86\n",
      "CSFAB    8.00\n",
      "PSOB     7.98\n",
      "QPSOB    7.54\n",
      "dtype: float64\n",
      "FAB      0.298496\n",
      "CSB      0.400500\n",
      "CSFAB    0.000000\n",
      "PSOB     0.582752\n",
      "QPSOB    0.654523\n",
      "dtype: float64\n"
     ]
    }
   ],
   "source": [
    "all_cv_df = pd.read_csv('./BCLL/cv.csv', index_col=0)\n",
    "print(np.mean(all_cv_df, 0))\n",
    "print(np.std(all_cv_df, 0))"
   ]
  },
  {
   "cell_type": "code",
   "execution_count": 8,
   "metadata": {},
   "outputs": [
    {
     "name": "stdout",
     "output_type": "stream",
     "text": [
      "FAB      6053.57\n",
      "CSB      6075.06\n",
      "CSFAB    5992.93\n",
      "PSOB     6093.41\n",
      "QPSOB    3777.54\n",
      "dtype: float64\n",
      "FAB        57.882166\n",
      "CSB        49.938126\n",
      "CSFAB      61.529872\n",
      "PSOB       49.649793\n",
      "QPSOB    1285.537323\n",
      "dtype: float64\n"
     ]
    }
   ],
   "source": [
    "all_gv_df = pd.read_csv('./BCLL/gv.csv', index_col=0)\n",
    "print(np.mean(all_gv_df, 0))\n",
    "print(np.std(all_gv_df, 0))"
   ]
  },
  {
   "cell_type": "code",
   "execution_count": 9,
   "metadata": {},
   "outputs": [],
   "source": [
    "bcll_msr_df = pd.read_csv('./BCLL/msr.csv', index_col=0).drop(labels='QPSOB', axis=1)"
   ]
  },
  {
   "cell_type": "code",
   "execution_count": 10,
   "metadata": {},
   "outputs": [
    {
     "data": {
      "text/html": [
       "<div>\n",
       "<style scoped>\n",
       "    .dataframe tbody tr th:only-of-type {\n",
       "        vertical-align: middle;\n",
       "    }\n",
       "\n",
       "    .dataframe tbody tr th {\n",
       "        vertical-align: top;\n",
       "    }\n",
       "\n",
       "    .dataframe thead th {\n",
       "        text-align: right;\n",
       "    }\n",
       "</style>\n",
       "<table border=\"1\" class=\"dataframe\">\n",
       "  <thead>\n",
       "    <tr style=\"text-align: right;\">\n",
       "      <th></th>\n",
       "      <th>FAB</th>\n",
       "      <th>CSB</th>\n",
       "      <th>CSFAB</th>\n",
       "      <th>PSOB</th>\n",
       "    </tr>\n",
       "  </thead>\n",
       "  <tbody>\n",
       "    <tr>\n",
       "      <th>count</th>\n",
       "      <td>100.000000</td>\n",
       "      <td>100.000000</td>\n",
       "      <td>100.000000</td>\n",
       "      <td>100.000000</td>\n",
       "    </tr>\n",
       "    <tr>\n",
       "      <th>mean</th>\n",
       "      <td>296.212770</td>\n",
       "      <td>309.224031</td>\n",
       "      <td>277.049466</td>\n",
       "      <td>302.597723</td>\n",
       "    </tr>\n",
       "    <tr>\n",
       "      <th>std</th>\n",
       "      <td>7.294468</td>\n",
       "      <td>6.959299</td>\n",
       "      <td>2.991824</td>\n",
       "      <td>15.785232</td>\n",
       "    </tr>\n",
       "    <tr>\n",
       "      <th>min</th>\n",
       "      <td>274.974644</td>\n",
       "      <td>285.079378</td>\n",
       "      <td>271.051715</td>\n",
       "      <td>280.204217</td>\n",
       "    </tr>\n",
       "    <tr>\n",
       "      <th>25%</th>\n",
       "      <td>293.108054</td>\n",
       "      <td>309.330136</td>\n",
       "      <td>274.342032</td>\n",
       "      <td>296.468270</td>\n",
       "    </tr>\n",
       "    <tr>\n",
       "      <th>50%</th>\n",
       "      <td>295.385766</td>\n",
       "      <td>310.672754</td>\n",
       "      <td>276.501439</td>\n",
       "      <td>298.500848</td>\n",
       "    </tr>\n",
       "    <tr>\n",
       "      <th>75%</th>\n",
       "      <td>298.550907</td>\n",
       "      <td>312.720915</td>\n",
       "      <td>279.063417</td>\n",
       "      <td>302.483111</td>\n",
       "    </tr>\n",
       "    <tr>\n",
       "      <th>max</th>\n",
       "      <td>329.046999</td>\n",
       "      <td>321.378103</td>\n",
       "      <td>284.616449</td>\n",
       "      <td>359.030934</td>\n",
       "    </tr>\n",
       "  </tbody>\n",
       "</table>\n",
       "</div>"
      ],
      "text/plain": [
       "              FAB         CSB       CSFAB        PSOB\n",
       "count  100.000000  100.000000  100.000000  100.000000\n",
       "mean   296.212770  309.224031  277.049466  302.597723\n",
       "std      7.294468    6.959299    2.991824   15.785232\n",
       "min    274.974644  285.079378  271.051715  280.204217\n",
       "25%    293.108054  309.330136  274.342032  296.468270\n",
       "50%    295.385766  310.672754  276.501439  298.500848\n",
       "75%    298.550907  312.720915  279.063417  302.483111\n",
       "max    329.046999  321.378103  284.616449  359.030934"
      ]
     },
     "execution_count": 10,
     "metadata": {},
     "output_type": "execute_result"
    }
   ],
   "source": [
    "bcll_msr_df.describe()"
   ]
  },
  {
   "cell_type": "code",
   "execution_count": 11,
   "metadata": {},
   "outputs": [
    {
     "data": {
      "text/plain": [
       "<matplotlib.axes._subplots.AxesSubplot at 0x7f13a957ef10>"
      ]
     },
     "execution_count": 11,
     "metadata": {},
     "output_type": "execute_result"
    },
    {
     "data": {
      "image/png": "[encoded data removed]",
      "text/plain": [
       "<Figure size 432x288 with 1 Axes>"
      ]
     },
     "metadata": {},
     "output_type": "display_data"
    }
   ],
   "source": [
    "bcll_msr_df.plot.box()"
   ]
  },
  {
   "cell_type": "code",
   "execution_count": 12,
   "metadata": {},
   "outputs": [
    {
     "data": {
      "text/plain": [
       "Text(0.5, 0, '')"
      ]
     },
     "execution_count": 12,
     "metadata": {},
     "output_type": "execute_result"
    },
    {
     "data": {
      "image/png": "[encoded data removed]",
      "text/plain": [
       "<Figure size 432x288 with 1 Axes>"
      ]
     },
     "metadata": {},
     "output_type": "display_data"
    }
   ],
   "source": [
    "ax = sns.boxplot(x=\"variable\", y=\"value\", data=pd.melt(bcll_msr_df))\n",
    "ax.set_ylabel('')    \n",
    "ax.set_xlabel('')"
   ]
  },
  {
   "cell_type": "code",
   "execution_count": 13,
   "metadata": {},
   "outputs": [],
   "source": [
    "bcll_gv_df = pd.read_csv('./BCLL/gv.csv', index_col=0).drop(labels='QPSOB', axis=1)"
   ]
  },
  {
   "cell_type": "code",
   "execution_count": 14,
   "metadata": {},
   "outputs": [
    {
     "data": {
      "text/plain": [
       "5992.93"
      ]
     },
     "execution_count": 14,
     "metadata": {},
     "output_type": "execute_result"
    }
   ],
   "source": [
    "np.mean(bcll_gv_df['CSFAB'].values, 0)"
   ]
  },
  {
   "cell_type": "code",
   "execution_count": 15,
   "metadata": {},
   "outputs": [
    {
     "data": {
      "text/plain": [
       "<matplotlib.axes._subplots.AxesSubplot at 0x7f13a93f91d0>"
      ]
     },
     "execution_count": 15,
     "metadata": {},
     "output_type": "execute_result"
    },
    {
     "data": {
      "image/png": "[encoded data removed]",
      "text/plain": [
       "<Figure size 432x288 with 1 Axes>"
      ]
     },
     "metadata": {},
     "output_type": "display_data"
    }
   ],
   "source": [
    "bcll_gv_df.plot.box()"
   ]
  },
  {
   "cell_type": "code",
   "execution_count": 16,
   "metadata": {},
   "outputs": [
    {
     "data": {
      "text/plain": [
       "array([57.88216565, 49.93812572, 61.52987161, 49.64979255])"
      ]
     },
     "execution_count": 16,
     "metadata": {},
     "output_type": "execute_result"
    }
   ],
   "source": [
    "np.std(bcll_gv_df.values,0)"
   ]
  },
  {
   "cell_type": "code",
   "execution_count": 17,
   "metadata": {},
   "outputs": [
    {
     "data": {
      "text/plain": [
       "array([6053.57, 6075.06, 5992.93, 6093.41])"
      ]
     },
     "execution_count": 17,
     "metadata": {},
     "output_type": "execute_result"
    }
   ],
   "source": [
    "np.mean(bcll_gv_df.values,0)"
   ]
  },
  {
   "cell_type": "code",
   "execution_count": 18,
   "metadata": {},
   "outputs": [],
   "source": [
    "bcll_cv_df =  pd.read_csv('./BCLL/cv.csv', index_col=0).drop(labels='QPSOB', axis=1)"
   ]
  },
  {
   "cell_type": "code",
   "execution_count": 19,
   "metadata": {
    "scrolled": true
   },
   "outputs": [
    {
     "data": {
      "text/plain": [
       "0.0"
      ]
     },
     "execution_count": 19,
     "metadata": {},
     "output_type": "execute_result"
    }
   ],
   "source": [
    "np.std(bcll_cv_df['CSFAB'].values, 0)"
   ]
  },
  {
   "cell_type": "code",
   "execution_count": 20,
   "metadata": {},
   "outputs": [
    {
     "data": {
      "text/plain": [
       "array([[8.03, 7.86, 8.  , 7.98]])"
      ]
     },
     "execution_count": 20,
     "metadata": {},
     "output_type": "execute_result"
    }
   ],
   "source": [
    "np.mean(bcll_cv_df.values, 0, keepdims=True)"
   ]
  },
  {
   "cell_type": "code",
   "execution_count": 21,
   "metadata": {},
   "outputs": [
    {
     "data": {
      "text/plain": [
       "array([[0.29849623, 0.40049969, 0.        , 0.58275209]])"
      ]
     },
     "execution_count": 21,
     "metadata": {},
     "output_type": "execute_result"
    }
   ],
   "source": [
    "np.std(bcll_cv_df.values, 0, keepdims=True)"
   ]
  },
  {
   "cell_type": "code",
   "execution_count": 22,
   "metadata": {
    "scrolled": true
   },
   "outputs": [
    {
     "data": {
      "text/plain": [
       "<matplotlib.axes._subplots.AxesSubplot at 0x7f13a933e450>"
      ]
     },
     "execution_count": 22,
     "metadata": {},
     "output_type": "execute_result"
    },
    {
     "data": {
      "image/png": "[encoded data removed]",
      "text/plain": [
       "<Figure size 432x288 with 1 Axes>"
      ]
     },
     "metadata": {},
     "output_type": "display_data"
    }
   ],
   "source": [
    "bcll_cv_df.plot.box()"
   ]
  },
  {
   "cell_type": "code",
   "execution_count": 23,
   "metadata": {},
   "outputs": [],
   "source": [
    "bcll_ri_df = pd.read_csv('./BCLL/ri.csv', index_col=0).drop(labels='QPSOB', axis=1)"
   ]
  },
  {
   "cell_type": "code",
   "execution_count": 24,
   "metadata": {},
   "outputs": [
    {
     "data": {
      "text/plain": [
       "0.030722929000502542"
      ]
     },
     "execution_count": 24,
     "metadata": {},
     "output_type": "execute_result"
    }
   ],
   "source": [
    "np.mean(bcll_ri_df['CSFAB'].values, 0)"
   ]
  },
  {
   "cell_type": "code",
   "execution_count": 25,
   "metadata": {},
   "outputs": [
    {
     "data": {
      "text/plain": [
       "<matplotlib.axes._subplots.AxesSubplot at 0x7f13a933a450>"
      ]
     },
     "execution_count": 25,
     "metadata": {},
     "output_type": "execute_result"
    },
    {
     "data": {
      "image/png": "[encoded data removed]",
      "text/plain": [
       "<Figure size 432x288 with 1 Axes>"
      ]
     },
     "metadata": {},
     "output_type": "display_data"
    }
   ],
   "source": [
    "bcll_ri_df.plot.box()"
   ]
  },
  {
   "cell_type": "code",
   "execution_count": 26,
   "metadata": {},
   "outputs": [],
   "source": [
    "bcll_smsr_df = pd.read_csv('./BCLL/smsr.csv', index_col=0).drop(labels='QPSOB', axis=1)"
   ]
  },
  {
   "cell_type": "code",
   "execution_count": 27,
   "metadata": {},
   "outputs": [
    {
     "data": {
      "text/html": [
       "<div>\n",
       "<style scoped>\n",
       "    .dataframe tbody tr th:only-of-type {\n",
       "        vertical-align: middle;\n",
       "    }\n",
       "\n",
       "    .dataframe tbody tr th {\n",
       "        vertical-align: top;\n",
       "    }\n",
       "\n",
       "    .dataframe thead th {\n",
       "        text-align: right;\n",
       "    }\n",
       "</style>\n",
       "<table border=\"1\" class=\"dataframe\">\n",
       "  <thead>\n",
       "    <tr style=\"text-align: right;\">\n",
       "      <th></th>\n",
       "      <th>FAB</th>\n",
       "      <th>CSB</th>\n",
       "      <th>CSFAB</th>\n",
       "      <th>PSOB</th>\n",
       "    </tr>\n",
       "  </thead>\n",
       "  <tbody>\n",
       "    <tr>\n",
       "      <th>0</th>\n",
       "      <td>481928.693780</td>\n",
       "      <td>468991.112628</td>\n",
       "      <td>432604.597867</td>\n",
       "      <td>469375.109228</td>\n",
       "    </tr>\n",
       "    <tr>\n",
       "      <th>1</th>\n",
       "      <td>470099.001452</td>\n",
       "      <td>505399.056031</td>\n",
       "      <td>435933.622806</td>\n",
       "      <td>467093.744743</td>\n",
       "    </tr>\n",
       "    <tr>\n",
       "      <th>2</th>\n",
       "      <td>470965.765595</td>\n",
       "      <td>506646.535808</td>\n",
       "      <td>441128.171777</td>\n",
       "      <td>475771.340541</td>\n",
       "    </tr>\n",
       "    <tr>\n",
       "      <th>3</th>\n",
       "      <td>455814.498441</td>\n",
       "      <td>511356.915690</td>\n",
       "      <td>431511.223354</td>\n",
       "      <td>488407.941390</td>\n",
       "    </tr>\n",
       "    <tr>\n",
       "      <th>4</th>\n",
       "      <td>472295.698501</td>\n",
       "      <td>493776.819097</td>\n",
       "      <td>442816.116748</td>\n",
       "      <td>459338.237120</td>\n",
       "    </tr>\n",
       "    <tr>\n",
       "      <th>...</th>\n",
       "      <td>...</td>\n",
       "      <td>...</td>\n",
       "      <td>...</td>\n",
       "      <td>...</td>\n",
       "    </tr>\n",
       "    <tr>\n",
       "      <th>95</th>\n",
       "      <td>468284.609987</td>\n",
       "      <td>505216.726644</td>\n",
       "      <td>434461.043971</td>\n",
       "      <td>473430.162539</td>\n",
       "    </tr>\n",
       "    <tr>\n",
       "      <th>96</th>\n",
       "      <td>470660.373403</td>\n",
       "      <td>501375.975910</td>\n",
       "      <td>435972.851420</td>\n",
       "      <td>489146.998890</td>\n",
       "    </tr>\n",
       "    <tr>\n",
       "      <th>97</th>\n",
       "      <td>483583.311124</td>\n",
       "      <td>505125.506344</td>\n",
       "      <td>415859.299685</td>\n",
       "      <td>530406.365136</td>\n",
       "    </tr>\n",
       "    <tr>\n",
       "      <th>98</th>\n",
       "      <td>472955.833592</td>\n",
       "      <td>495267.497399</td>\n",
       "      <td>435143.195445</td>\n",
       "      <td>478680.309789</td>\n",
       "    </tr>\n",
       "    <tr>\n",
       "      <th>99</th>\n",
       "      <td>463693.485397</td>\n",
       "      <td>498635.292437</td>\n",
       "      <td>436432.168416</td>\n",
       "      <td>464335.485439</td>\n",
       "    </tr>\n",
       "  </tbody>\n",
       "</table>\n",
       "<p>100 rows × 4 columns</p>\n",
       "</div>"
      ],
      "text/plain": [
       "              FAB            CSB          CSFAB           PSOB\n",
       "0   481928.693780  468991.112628  432604.597867  469375.109228\n",
       "1   470099.001452  505399.056031  435933.622806  467093.744743\n",
       "2   470965.765595  506646.535808  441128.171777  475771.340541\n",
       "3   455814.498441  511356.915690  431511.223354  488407.941390\n",
       "4   472295.698501  493776.819097  442816.116748  459338.237120\n",
       "..            ...            ...            ...            ...\n",
       "95  468284.609987  505216.726644  434461.043971  473430.162539\n",
       "96  470660.373403  501375.975910  435972.851420  489146.998890\n",
       "97  483583.311124  505125.506344  415859.299685  530406.365136\n",
       "98  472955.833592  495267.497399  435143.195445  478680.309789\n",
       "99  463693.485397  498635.292437  436432.168416  464335.485439\n",
       "\n",
       "[100 rows x 4 columns]"
      ]
     },
     "execution_count": 27,
     "metadata": {},
     "output_type": "execute_result"
    }
   ],
   "source": [
    "bcll_smsr_df"
   ]
  },
  {
   "cell_type": "code",
   "execution_count": 28,
   "metadata": {},
   "outputs": [
    {
     "data": {
      "text/plain": [
       "<matplotlib.axes._subplots.AxesSubplot at 0x7f13a9213610>"
      ]
     },
     "execution_count": 28,
     "metadata": {},
     "output_type": "execute_result"
    },
    {
     "data": {
      "image/png": "[encoded data removed]",
      "text/plain": [
       "<Figure size 432x288 with 1 Axes>"
      ]
     },
     "metadata": {},
     "output_type": "display_data"
    }
   ],
   "source": [
    "bcll_smsr_df.plot.box()"
   ]
  },
  {
   "cell_type": "code",
   "execution_count": 29,
   "metadata": {},
   "outputs": [],
   "source": [
    "bcll_hv_df = pd.read_csv('./BCLL/hv.csv', index_col=0).drop(labels='QPSOB', axis=1)"
   ]
  },
  {
   "cell_type": "code",
   "execution_count": 30,
   "metadata": {},
   "outputs": [
    {
     "data": {
      "text/plain": [
       "FAB      0.994445\n",
       "CSB      0.995121\n",
       "CSFAB    0.994086\n",
       "PSOB     0.994268\n",
       "dtype: float64"
      ]
     },
     "execution_count": 30,
     "metadata": {},
     "output_type": "execute_result"
    }
   ],
   "source": [
    "np.mean(bcll_hv_df, 0)"
   ]
  },
  {
   "cell_type": "code",
   "execution_count": 31,
   "metadata": {},
   "outputs": [
    {
     "data": {
      "text/plain": [
       "FAB      0.001129\n",
       "CSB      0.000911\n",
       "CSFAB    0.000699\n",
       "PSOB     0.001984\n",
       "dtype: float64"
      ]
     },
     "execution_count": 31,
     "metadata": {},
     "output_type": "execute_result"
    }
   ],
   "source": [
    "np.std(bcll_hv_df, 0)"
   ]
  },
  {
   "cell_type": "code",
   "execution_count": 32,
   "metadata": {},
   "outputs": [
    {
     "data": {
      "text/plain": [
       "<matplotlib.axes._subplots.AxesSubplot at 0x7f13a914f690>"
      ]
     },
     "execution_count": 32,
     "metadata": {},
     "output_type": "execute_result"
    },
    {
     "data": {
      "image/png": "[encoded data removed]",
      "text/plain": [
       "<Figure size 432x288 with 1 Axes>"
      ]
     },
     "metadata": {},
     "output_type": "display_data"
    }
   ],
   "source": [
    "bcll_hv_df.plot.box()"
   ]
  },
  {
   "cell_type": "code",
   "execution_count": 33,
   "metadata": {},
   "outputs": [],
   "source": [
    "bcll_var_df = pd.read_csv('./BCLL/var.csv', index_col=0).drop(labels='QPSOB', axis=1)"
   ]
  },
  {
   "cell_type": "code",
   "execution_count": 34,
   "metadata": {},
   "outputs": [
    {
     "data": {
      "text/html": [
       "<div>\n",
       "<style scoped>\n",
       "    .dataframe tbody tr th:only-of-type {\n",
       "        vertical-align: middle;\n",
       "    }\n",
       "\n",
       "    .dataframe tbody tr th {\n",
       "        vertical-align: top;\n",
       "    }\n",
       "\n",
       "    .dataframe thead th {\n",
       "        text-align: right;\n",
       "    }\n",
       "</style>\n",
       "<table border=\"1\" class=\"dataframe\">\n",
       "  <thead>\n",
       "    <tr style=\"text-align: right;\">\n",
       "      <th></th>\n",
       "      <th>FAB</th>\n",
       "      <th>CSB</th>\n",
       "      <th>CSFAB</th>\n",
       "      <th>PSOB</th>\n",
       "    </tr>\n",
       "  </thead>\n",
       "  <tbody>\n",
       "    <tr>\n",
       "      <th>count</th>\n",
       "      <td>100.000000</td>\n",
       "      <td>100.000000</td>\n",
       "      <td>100.000000</td>\n",
       "      <td>100.000000</td>\n",
       "    </tr>\n",
       "    <tr>\n",
       "      <th>mean</th>\n",
       "      <td>340.281160</td>\n",
       "      <td>356.165052</td>\n",
       "      <td>318.510944</td>\n",
       "      <td>348.123108</td>\n",
       "    </tr>\n",
       "    <tr>\n",
       "      <th>std</th>\n",
       "      <td>7.127837</td>\n",
       "      <td>5.643691</td>\n",
       "      <td>3.380209</td>\n",
       "      <td>15.930992</td>\n",
       "    </tr>\n",
       "    <tr>\n",
       "      <th>min</th>\n",
       "      <td>321.769916</td>\n",
       "      <td>338.781027</td>\n",
       "      <td>311.531491</td>\n",
       "      <td>328.108728</td>\n",
       "    </tr>\n",
       "    <tr>\n",
       "      <th>25%</th>\n",
       "      <td>336.568742</td>\n",
       "      <td>355.488422</td>\n",
       "      <td>315.536249</td>\n",
       "      <td>340.756938</td>\n",
       "    </tr>\n",
       "    <tr>\n",
       "      <th>50%</th>\n",
       "      <td>339.491311</td>\n",
       "      <td>356.922804</td>\n",
       "      <td>317.660828</td>\n",
       "      <td>343.596409</td>\n",
       "    </tr>\n",
       "    <tr>\n",
       "      <th>75%</th>\n",
       "      <td>343.170953</td>\n",
       "      <td>359.219899</td>\n",
       "      <td>320.836698</td>\n",
       "      <td>347.700142</td>\n",
       "    </tr>\n",
       "    <tr>\n",
       "      <th>max</th>\n",
       "      <td>372.861969</td>\n",
       "      <td>369.137975</td>\n",
       "      <td>327.090773</td>\n",
       "      <td>407.614353</td>\n",
       "    </tr>\n",
       "  </tbody>\n",
       "</table>\n",
       "</div>"
      ],
      "text/plain": [
       "              FAB         CSB       CSFAB        PSOB\n",
       "count  100.000000  100.000000  100.000000  100.000000\n",
       "mean   340.281160  356.165052  318.510944  348.123108\n",
       "std      7.127837    5.643691    3.380209   15.930992\n",
       "min    321.769916  338.781027  311.531491  328.108728\n",
       "25%    336.568742  355.488422  315.536249  340.756938\n",
       "50%    339.491311  356.922804  317.660828  343.596409\n",
       "75%    343.170953  359.219899  320.836698  347.700142\n",
       "max    372.861969  369.137975  327.090773  407.614353"
      ]
     },
     "execution_count": 34,
     "metadata": {},
     "output_type": "execute_result"
    }
   ],
   "source": [
    "bcll_var_df.describe()"
   ]
  },
  {
   "cell_type": "code",
   "execution_count": 35,
   "metadata": {},
   "outputs": [
    {
     "data": {
      "text/plain": [
       "<matplotlib.axes._subplots.AxesSubplot at 0x7f13a909a510>"
      ]
     },
     "execution_count": 35,
     "metadata": {},
     "output_type": "execute_result"
    },
    {
     "data": {
      "image/png": "[encoded data removed]",
      "text/plain": [
       "<Figure size 432x288 with 1 Axes>"
      ]
     },
     "metadata": {},
     "output_type": "display_data"
    }
   ],
   "source": [
    "bcll_var_df.plot.box()"
   ]
  },
  {
   "cell_type": "code",
   "execution_count": null,
   "metadata": {},
   "outputs": [],
   "source": []
  }
 ],
 "metadata": {
  "kernelspec": {
   "display_name": "Python 3",
   "language": "python",
   "name": "python3"
  },
  "language_info": {
   "codemirror_mode": {
    "name": "ipython",
    "version": 3
   },
   "file_extension": ".py",
   "mimetype": "text/x-python",
   "name": "python",
   "nbconvert_exporter": "python",
   "pygments_lexer": "ipython3",
   "version": "3.7.5"
  }
 },
 "nbformat": 4,
 "nbformat_minor": 2
}
